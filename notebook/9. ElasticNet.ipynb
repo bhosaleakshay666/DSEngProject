{
 "cells": [
  {
   "cell_type": "markdown",
   "metadata": {},
   "source": [
    "# **TSLA Stock ElasticNet Model**"
   ]
  },
  {
   "cell_type": "code",
   "execution_count": 1,
   "metadata": {
    "id": "0QmpxOpkXpQL"
   },
   "outputs": [],
   "source": [
    "import warnings\n",
    "warnings.filterwarnings(\"ignore\")\n",
    "\n",
    "import math\n",
    "import numpy as np\n",
    "import pandas as pd\n",
    "import seaborn as sns\n",
    "import yfinance as yf\n",
    "import scipy.stats as ss\n",
    "import statsmodels as smt\n",
    "import statsmodels.api as sm\n",
    "from datetime import datetime\n",
    "import matplotlib.pyplot as plt\n",
    "from scipy.optimize import minimize\n",
    "from sklearn.metrics import mean_absolute_error\n",
    "from sklearn.model_selection import GridSearchCV\n",
    "from prompt_toolkit.filters.cli import emacs_insert_mode\n",
    "from sklearn import linear_model, model_selection, metrics"
   ]
  },
  {
   "cell_type": "code",
   "execution_count": 2,
   "metadata": {
    "id": "8dujIhRRX9xw"
   },
   "outputs": [],
   "source": [
    "TSLA = pd.read_csv('TSLA_Final.csv')\n",
    "TSLA.drop(columns='Close', inplace=True)"
   ]
  },
  {
   "cell_type": "code",
   "execution_count": 3,
   "metadata": {
    "colab": {
     "base_uri": "https://localhost:8080/"
    },
    "id": "JV4Ps2XzYCw0",
    "outputId": "73b32622-4ae6-4220-a819-e50c8df45bb2"
   },
   "outputs": [
    {
     "data": {
      "text/html": [
       "<div>\n",
       "<style scoped>\n",
       "    .dataframe tbody tr th:only-of-type {\n",
       "        vertical-align: middle;\n",
       "    }\n",
       "\n",
       "    .dataframe tbody tr th {\n",
       "        vertical-align: top;\n",
       "    }\n",
       "\n",
       "    .dataframe thead th {\n",
       "        text-align: right;\n",
       "    }\n",
       "</style>\n",
       "<table border=\"1\" class=\"dataframe\">\n",
       "  <thead>\n",
       "    <tr style=\"text-align: right;\">\n",
       "      <th></th>\n",
       "      <th>Date</th>\n",
       "      <th>Open</th>\n",
       "      <th>High</th>\n",
       "      <th>Low</th>\n",
       "      <th>Adj Close</th>\n",
       "      <th>Volume</th>\n",
       "      <th>Mkt-RF</th>\n",
       "      <th>SMB</th>\n",
       "      <th>HML</th>\n",
       "      <th>RF</th>\n",
       "      <th>Yest_Close</th>\n",
       "      <th>stock_return</th>\n",
       "      <th>SMA_20</th>\n",
       "      <th>SMA_50</th>\n",
       "      <th>EMA_12</th>\n",
       "      <th>EMA_26</th>\n",
       "      <th>MACD</th>\n",
       "      <th>RSI</th>\n",
       "      <th>ADS_Index</th>\n",
       "    </tr>\n",
       "  </thead>\n",
       "  <tbody>\n",
       "    <tr>\n",
       "      <th>0</th>\n",
       "      <td>2017-01-04</td>\n",
       "      <td>14.316667</td>\n",
       "      <td>15.200000</td>\n",
       "      <td>14.287333</td>\n",
       "      <td>15.132667</td>\n",
       "      <td>168202500</td>\n",
       "      <td>0.79</td>\n",
       "      <td>0.95</td>\n",
       "      <td>-0.16</td>\n",
       "      <td>0.002</td>\n",
       "      <td>14.466000</td>\n",
       "      <td>0.046085</td>\n",
       "      <td>15.132667</td>\n",
       "      <td>15.132667</td>\n",
       "      <td>15.132667</td>\n",
       "      <td>15.132667</td>\n",
       "      <td>0.000000</td>\n",
       "      <td>100.000000</td>\n",
       "      <td>0.147667</td>\n",
       "    </tr>\n",
       "    <tr>\n",
       "      <th>1</th>\n",
       "      <td>2017-01-05</td>\n",
       "      <td>15.094667</td>\n",
       "      <td>15.165333</td>\n",
       "      <td>14.796667</td>\n",
       "      <td>15.116667</td>\n",
       "      <td>88675500</td>\n",
       "      <td>-0.21</td>\n",
       "      <td>-0.88</td>\n",
       "      <td>-0.79</td>\n",
       "      <td>0.002</td>\n",
       "      <td>15.132667</td>\n",
       "      <td>-0.001057</td>\n",
       "      <td>15.124667</td>\n",
       "      <td>15.124667</td>\n",
       "      <td>15.130205</td>\n",
       "      <td>15.131481</td>\n",
       "      <td>-0.001276</td>\n",
       "      <td>0.000000</td>\n",
       "      <td>0.127719</td>\n",
       "    </tr>\n",
       "    <tr>\n",
       "      <th>2</th>\n",
       "      <td>2017-01-06</td>\n",
       "      <td>15.128667</td>\n",
       "      <td>15.354000</td>\n",
       "      <td>15.030000</td>\n",
       "      <td>15.267333</td>\n",
       "      <td>82918500</td>\n",
       "      <td>0.29</td>\n",
       "      <td>-0.66</td>\n",
       "      <td>-0.31</td>\n",
       "      <td>0.002</td>\n",
       "      <td>15.116667</td>\n",
       "      <td>0.009967</td>\n",
       "      <td>15.172222</td>\n",
       "      <td>15.172222</td>\n",
       "      <td>15.151302</td>\n",
       "      <td>15.141545</td>\n",
       "      <td>0.009757</td>\n",
       "      <td>91.024248</td>\n",
       "      <td>0.108194</td>\n",
       "    </tr>\n",
       "    <tr>\n",
       "      <th>3</th>\n",
       "      <td>2017-01-09</td>\n",
       "      <td>15.264667</td>\n",
       "      <td>15.461333</td>\n",
       "      <td>15.200000</td>\n",
       "      <td>15.418667</td>\n",
       "      <td>59692500</td>\n",
       "      <td>-0.37</td>\n",
       "      <td>-0.29</td>\n",
       "      <td>-1.04</td>\n",
       "      <td>0.002</td>\n",
       "      <td>15.267333</td>\n",
       "      <td>0.009912</td>\n",
       "      <td>15.233833</td>\n",
       "      <td>15.233833</td>\n",
       "      <td>15.192435</td>\n",
       "      <td>15.162072</td>\n",
       "      <td>0.030363</td>\n",
       "      <td>95.477309</td>\n",
       "      <td>0.051808</td>\n",
       "    </tr>\n",
       "    <tr>\n",
       "      <th>4</th>\n",
       "      <td>2017-01-10</td>\n",
       "      <td>15.466667</td>\n",
       "      <td>15.466667</td>\n",
       "      <td>15.126000</td>\n",
       "      <td>15.324667</td>\n",
       "      <td>54900000</td>\n",
       "      <td>0.16</td>\n",
       "      <td>0.88</td>\n",
       "      <td>0.44</td>\n",
       "      <td>0.002</td>\n",
       "      <td>15.418667</td>\n",
       "      <td>-0.006096</td>\n",
       "      <td>15.252000</td>\n",
       "      <td>15.252000</td>\n",
       "      <td>15.212778</td>\n",
       "      <td>15.174116</td>\n",
       "      <td>0.038662</td>\n",
       "      <td>71.686831</td>\n",
       "      <td>0.033339</td>\n",
       "    </tr>\n",
       "    <tr>\n",
       "      <th>...</th>\n",
       "      <td>...</td>\n",
       "      <td>...</td>\n",
       "      <td>...</td>\n",
       "      <td>...</td>\n",
       "      <td>...</td>\n",
       "      <td>...</td>\n",
       "      <td>...</td>\n",
       "      <td>...</td>\n",
       "      <td>...</td>\n",
       "      <td>...</td>\n",
       "      <td>...</td>\n",
       "      <td>...</td>\n",
       "      <td>...</td>\n",
       "      <td>...</td>\n",
       "      <td>...</td>\n",
       "      <td>...</td>\n",
       "      <td>...</td>\n",
       "      <td>...</td>\n",
       "      <td>...</td>\n",
       "    </tr>\n",
       "    <tr>\n",
       "      <th>1584</th>\n",
       "      <td>2023-04-21</td>\n",
       "      <td>164.800003</td>\n",
       "      <td>166.000000</td>\n",
       "      <td>161.320007</td>\n",
       "      <td>165.080002</td>\n",
       "      <td>123539000</td>\n",
       "      <td>0.07</td>\n",
       "      <td>0.26</td>\n",
       "      <td>-0.92</td>\n",
       "      <td>0.018</td>\n",
       "      <td>162.990005</td>\n",
       "      <td>0.012823</td>\n",
       "      <td>186.435500</td>\n",
       "      <td>190.798200</td>\n",
       "      <td>179.692929</td>\n",
       "      <td>183.898405</td>\n",
       "      <td>-4.205476</td>\n",
       "      <td>35.309424</td>\n",
       "      <td>0.156027</td>\n",
       "    </tr>\n",
       "    <tr>\n",
       "      <th>1585</th>\n",
       "      <td>2023-04-24</td>\n",
       "      <td>164.649994</td>\n",
       "      <td>165.649994</td>\n",
       "      <td>158.610001</td>\n",
       "      <td>162.550003</td>\n",
       "      <td>140006600</td>\n",
       "      <td>0.00</td>\n",
       "      <td>-0.40</td>\n",
       "      <td>0.47</td>\n",
       "      <td>0.018</td>\n",
       "      <td>165.080002</td>\n",
       "      <td>-0.015326</td>\n",
       "      <td>185.042500</td>\n",
       "      <td>189.902800</td>\n",
       "      <td>177.055556</td>\n",
       "      <td>182.317042</td>\n",
       "      <td>-5.261486</td>\n",
       "      <td>33.974557</td>\n",
       "      <td>0.142498</td>\n",
       "    </tr>\n",
       "    <tr>\n",
       "      <th>1586</th>\n",
       "      <td>2023-04-25</td>\n",
       "      <td>159.820007</td>\n",
       "      <td>163.470001</td>\n",
       "      <td>158.750000</td>\n",
       "      <td>160.669998</td>\n",
       "      <td>121999300</td>\n",
       "      <td>-1.76</td>\n",
       "      <td>-0.99</td>\n",
       "      <td>0.10</td>\n",
       "      <td>0.018</td>\n",
       "      <td>162.550003</td>\n",
       "      <td>-0.011566</td>\n",
       "      <td>183.485500</td>\n",
       "      <td>189.178400</td>\n",
       "      <td>174.534701</td>\n",
       "      <td>180.713557</td>\n",
       "      <td>-6.178856</td>\n",
       "      <td>32.976902</td>\n",
       "      <td>0.136458</td>\n",
       "    </tr>\n",
       "    <tr>\n",
       "      <th>1587</th>\n",
       "      <td>2023-04-26</td>\n",
       "      <td>160.289993</td>\n",
       "      <td>160.669998</td>\n",
       "      <td>153.139999</td>\n",
       "      <td>153.750000</td>\n",
       "      <td>153364100</td>\n",
       "      <td>-0.41</td>\n",
       "      <td>0.15</td>\n",
       "      <td>-0.75</td>\n",
       "      <td>0.018</td>\n",
       "      <td>160.669998</td>\n",
       "      <td>-0.043070</td>\n",
       "      <td>181.713499</td>\n",
       "      <td>188.360600</td>\n",
       "      <td>171.337055</td>\n",
       "      <td>178.716257</td>\n",
       "      <td>-7.379202</td>\n",
       "      <td>29.538571</td>\n",
       "      <td>0.129873</td>\n",
       "    </tr>\n",
       "    <tr>\n",
       "      <th>1588</th>\n",
       "      <td>2023-04-27</td>\n",
       "      <td>152.639999</td>\n",
       "      <td>160.479996</td>\n",
       "      <td>152.369995</td>\n",
       "      <td>160.190002</td>\n",
       "      <td>127015200</td>\n",
       "      <td>1.85</td>\n",
       "      <td>-0.56</td>\n",
       "      <td>0.00</td>\n",
       "      <td>0.018</td>\n",
       "      <td>153.750000</td>\n",
       "      <td>0.041886</td>\n",
       "      <td>180.028999</td>\n",
       "      <td>187.379400</td>\n",
       "      <td>169.622124</td>\n",
       "      <td>177.343942</td>\n",
       "      <td>-7.721818</td>\n",
       "      <td>36.204944</td>\n",
       "      <td>0.122739</td>\n",
       "    </tr>\n",
       "  </tbody>\n",
       "</table>\n",
       "<p>1589 rows × 19 columns</p>\n",
       "</div>"
      ],
      "text/plain": [
       "            Date        Open        High         Low   Adj Close     Volume  \\\n",
       "0     2017-01-04   14.316667   15.200000   14.287333   15.132667  168202500   \n",
       "1     2017-01-05   15.094667   15.165333   14.796667   15.116667   88675500   \n",
       "2     2017-01-06   15.128667   15.354000   15.030000   15.267333   82918500   \n",
       "3     2017-01-09   15.264667   15.461333   15.200000   15.418667   59692500   \n",
       "4     2017-01-10   15.466667   15.466667   15.126000   15.324667   54900000   \n",
       "...          ...         ...         ...         ...         ...        ...   \n",
       "1584  2023-04-21  164.800003  166.000000  161.320007  165.080002  123539000   \n",
       "1585  2023-04-24  164.649994  165.649994  158.610001  162.550003  140006600   \n",
       "1586  2023-04-25  159.820007  163.470001  158.750000  160.669998  121999300   \n",
       "1587  2023-04-26  160.289993  160.669998  153.139999  153.750000  153364100   \n",
       "1588  2023-04-27  152.639999  160.479996  152.369995  160.190002  127015200   \n",
       "\n",
       "      Mkt-RF   SMB   HML     RF  Yest_Close  stock_return      SMA_20  \\\n",
       "0       0.79  0.95 -0.16  0.002   14.466000      0.046085   15.132667   \n",
       "1      -0.21 -0.88 -0.79  0.002   15.132667     -0.001057   15.124667   \n",
       "2       0.29 -0.66 -0.31  0.002   15.116667      0.009967   15.172222   \n",
       "3      -0.37 -0.29 -1.04  0.002   15.267333      0.009912   15.233833   \n",
       "4       0.16  0.88  0.44  0.002   15.418667     -0.006096   15.252000   \n",
       "...      ...   ...   ...    ...         ...           ...         ...   \n",
       "1584    0.07  0.26 -0.92  0.018  162.990005      0.012823  186.435500   \n",
       "1585    0.00 -0.40  0.47  0.018  165.080002     -0.015326  185.042500   \n",
       "1586   -1.76 -0.99  0.10  0.018  162.550003     -0.011566  183.485500   \n",
       "1587   -0.41  0.15 -0.75  0.018  160.669998     -0.043070  181.713499   \n",
       "1588    1.85 -0.56  0.00  0.018  153.750000      0.041886  180.028999   \n",
       "\n",
       "          SMA_50      EMA_12      EMA_26      MACD         RSI  ADS_Index  \n",
       "0      15.132667   15.132667   15.132667  0.000000  100.000000   0.147667  \n",
       "1      15.124667   15.130205   15.131481 -0.001276    0.000000   0.127719  \n",
       "2      15.172222   15.151302   15.141545  0.009757   91.024248   0.108194  \n",
       "3      15.233833   15.192435   15.162072  0.030363   95.477309   0.051808  \n",
       "4      15.252000   15.212778   15.174116  0.038662   71.686831   0.033339  \n",
       "...          ...         ...         ...       ...         ...        ...  \n",
       "1584  190.798200  179.692929  183.898405 -4.205476   35.309424   0.156027  \n",
       "1585  189.902800  177.055556  182.317042 -5.261486   33.974557   0.142498  \n",
       "1586  189.178400  174.534701  180.713557 -6.178856   32.976902   0.136458  \n",
       "1587  188.360600  171.337055  178.716257 -7.379202   29.538571   0.129873  \n",
       "1588  187.379400  169.622124  177.343942 -7.721818   36.204944   0.122739  \n",
       "\n",
       "[1589 rows x 19 columns]"
      ]
     },
     "execution_count": 3,
     "metadata": {},
     "output_type": "execute_result"
    }
   ],
   "source": [
    "TSLA"
   ]
  },
  {
   "cell_type": "code",
   "execution_count": 4,
   "metadata": {
    "id": "ui4c99QnYGq9"
   },
   "outputs": [],
   "source": [
    "n = TSLA.shape[0]\n",
    "test_ratio = 0.8\n",
    "TSLA_train = TSLA[:int(n*test_ratio)]\n",
    "TSLA_test = TSLA[int(n*test_ratio):]"
   ]
  },
  {
   "cell_type": "code",
   "execution_count": 5,
   "metadata": {
    "id": "MLEcb5MGYJsp"
   },
   "outputs": [],
   "source": [
    "TSLA_DateIndex =  TSLA.copy()\n",
    "TSLA_DateIndex.set_index('Date', inplace = True)"
   ]
  },
  {
   "cell_type": "code",
   "execution_count": 6,
   "metadata": {
    "id": "AG6jM54fYNcB"
   },
   "outputs": [],
   "source": [
    "X = TSLA_DateIndex.drop(columns = 'Adj Close')\n",
    "y = TSLA_DateIndex['Adj Close']"
   ]
  },
  {
   "cell_type": "markdown",
   "metadata": {
    "id": "L2d827Whluk6"
   },
   "source": [
    "## Splitting the train and test data"
   ]
  },
  {
   "cell_type": "code",
   "execution_count": 7,
   "metadata": {
    "colab": {
     "base_uri": "https://localhost:8080/"
    },
    "id": "EM4pRuTkYUd8",
    "outputId": "e6e124ac-e8ea-4514-d285-4483e3db334e"
   },
   "outputs": [],
   "source": [
    "TSLA_train.set_index('Date', inplace = True)\n",
    "TSLA_test.set_index('Date', inplace = True)\n",
    "\n",
    "X_train, X_test = TSLA_train.drop(columns = 'Adj Close'), TSLA_test.drop(columns = 'Adj Close')\n",
    "y_train, y_test = TSLA_train['Adj Close'], TSLA_test['Adj Close']"
   ]
  },
  {
   "cell_type": "code",
   "execution_count": 11,
   "metadata": {
    "colab": {
     "base_uri": "https://localhost:8080/"
    },
    "id": "aW5wsP1wnUNd",
    "outputId": "521077a9-1a80-48e8-90dd-f1ec8ae5f6f1"
   },
   "outputs": [
    {
     "name": "stdout",
     "output_type": "stream",
     "text": [
      "The importatnt feature as per Elastic Net with cross validation: Index([], dtype='object')\n",
      "The optimum alpha as per elastic net with cross validataion: 3406559879.021535\n"
     ]
    }
   ],
   "source": [
    "enetcv_model = linear_model.ElasticNetCV(fit_intercept=True).fit(X_train,y_train)\n",
    "enetcv_filtered = X_train.columns[np.abs(enetcv_model.coef_) != 0.0]\n",
    "print('The importatnt feature as per Elastic Net with cross validation:', enetcv_filtered)\n",
    "print('The optimum alpha as per elastic net with cross validataion:', enetcv_model.alpha_)"
   ]
  },
  {
   "cell_type": "code",
   "execution_count": 12,
   "metadata": {
    "colab": {
     "base_uri": "https://localhost:8080/"
    },
    "id": "5buMd3pio9bz",
    "outputId": "2edc41ec-811b-45ac-9a30-d21c2c9a3891"
   },
   "outputs": [
    {
     "name": "stdout",
     "output_type": "stream",
     "text": [
      "The optimal value of alpha as per Grid Search is: 10.235310218990268\n"
     ]
    }
   ],
   "source": [
    "#Grid Search\n",
    "alpha_range = np.logspace(-4, 4, 100)\n",
    "enet_model = linear_model.ElasticNet()\n",
    "\n",
    "enet_grid_search = GridSearchCV(enet_model, param_grid = {'alpha': alpha_range}, scoring = 'r2', cv = 10)\n",
    "enet_grid_search.fit(X_train, y_train)\n",
    "\n",
    "enet_optimal_alpha = enet_grid_search.best_params_['alpha']\n",
    "print('The optimal value of alpha as per Grid Search is:', enet_optimal_alpha)"
   ]
  },
  {
   "cell_type": "code",
   "execution_count": 13,
   "metadata": {
    "colab": {
     "base_uri": "https://localhost:8080/"
    },
    "id": "7lpJosKOyEHG",
    "outputId": "684ad3bf-9511-43f5-b3b2-d4d24236e9ba"
   },
   "outputs": [
    {
     "name": "stdout",
     "output_type": "stream",
     "text": [
      "The selected features by elastic Net\n",
      " ['Open', 'High', 'Low', 'Volume', 'RSI']\n"
     ]
    }
   ],
   "source": [
    "# Elastic net with optimal alpha value\n",
    "enet_model_with_optimal_alpha = linear_model.ElasticNet(enet_optimal_alpha)\n",
    "enet_model_with_optimal_alpha.fit(X_train,y_train)\n",
    "\n",
    "enet_filtered = X_train.columns[np.abs(enet_model_with_optimal_alpha.coef_) != 0.0]\n",
    "print('The selected features by elastic Net\\n',list(enet_filtered))"
   ]
  },
  {
   "cell_type": "code",
   "execution_count": 14,
   "metadata": {
    "colab": {
     "base_uri": "https://localhost:8080/"
    },
    "id": "3DhEmKvf1Skm",
    "outputId": "f71e4c84-b17c-4d82-8d1a-c8c9d959a95c"
   },
   "outputs": [
    {
     "name": "stdout",
     "output_type": "stream",
     "text": [
      "                                 OLS Regression Results                                \n",
      "=======================================================================================\n",
      "Dep. Variable:              Adj Close   R-squared (uncentered):                   1.000\n",
      "Model:                            OLS   Adj. R-squared (uncentered):              1.000\n",
      "Method:                 Least Squares   F-statistic:                          1.389e+06\n",
      "Date:                Sat, 29 Jul 2023   Prob (F-statistic):                        0.00\n",
      "Time:                        22:37:57   Log-Likelihood:                         -2558.6\n",
      "No. Observations:                1271   AIC:                                      5127.\n",
      "Df Residuals:                    1266   BIC:                                      5153.\n",
      "Df Model:                           5                                                  \n",
      "Covariance Type:            nonrobust                                                  \n",
      "==============================================================================\n",
      "                 coef    std err          t      P>|t|      [0.025      0.975]\n",
      "------------------------------------------------------------------------------\n",
      "Open          -0.6676      0.022    -30.770      0.000      -0.710      -0.625\n",
      "High           0.9144      0.022     42.290      0.000       0.872       0.957\n",
      "Low            0.7511      0.019     39.925      0.000       0.714       0.788\n",
      "Volume     -2.254e-10   6.19e-10     -0.364      0.716   -1.44e-09    9.88e-10\n",
      "RSI            0.0013      0.002      0.628      0.530      -0.003       0.005\n",
      "==============================================================================\n",
      "Omnibus:                      308.036   Durbin-Watson:                   2.224\n",
      "Prob(Omnibus):                  0.000   Jarque-Bera (JB):            13875.166\n",
      "Skew:                          -0.220   Prob(JB):                         0.00\n",
      "Kurtosis:                      19.180   Cond. No.                     8.81e+07\n",
      "==============================================================================\n",
      "\n",
      "Notes:\n",
      "[1] R² is computed without centering (uncentered) since the model does not contain a constant.\n",
      "[2] Standard Errors assume that the covariance matrix of the errors is correctly specified.\n",
      "[3] The condition number is large, 8.81e+07. This might indicate that there are\n",
      "strong multicollinearity or other numerical problems.\n"
     ]
    }
   ],
   "source": [
    "## Fitting the model in OLS\n",
    "X_train_enet = X_train[enet_filtered]\n",
    "X_test_enet = X_test[enet_filtered]\n",
    "\n",
    "enet_OLS = sm.OLS(y_train, X_train_enet, normalize = True).fit()\n",
    "print(enet_OLS.summary())"
   ]
  },
  {
   "cell_type": "code",
   "execution_count": 15,
   "metadata": {
    "id": "0HM0JQJj1ivi"
   },
   "outputs": [
    {
     "data": {
      "text/html": [
       "<div>\n",
       "<style scoped>\n",
       "    .dataframe tbody tr th:only-of-type {\n",
       "        vertical-align: middle;\n",
       "    }\n",
       "\n",
       "    .dataframe tbody tr th {\n",
       "        vertical-align: top;\n",
       "    }\n",
       "\n",
       "    .dataframe thead th {\n",
       "        text-align: right;\n",
       "    }\n",
       "</style>\n",
       "<table border=\"1\" class=\"dataframe\">\n",
       "  <thead>\n",
       "    <tr style=\"text-align: right;\">\n",
       "      <th></th>\n",
       "      <th>feature</th>\n",
       "      <th>pValue</th>\n",
       "    </tr>\n",
       "  </thead>\n",
       "  <tbody>\n",
       "    <tr>\n",
       "      <th>0</th>\n",
       "      <td>Open</td>\n",
       "      <td>0.0</td>\n",
       "    </tr>\n",
       "    <tr>\n",
       "      <th>1</th>\n",
       "      <td>High</td>\n",
       "      <td>0.0</td>\n",
       "    </tr>\n",
       "    <tr>\n",
       "      <th>2</th>\n",
       "      <td>Low</td>\n",
       "      <td>0.0</td>\n",
       "    </tr>\n",
       "  </tbody>\n",
       "</table>\n",
       "</div>"
      ],
      "text/plain": [
       "  feature  pValue\n",
       "0    Open     0.0\n",
       "1    High     0.0\n",
       "2     Low     0.0"
      ]
     },
     "execution_count": 15,
     "metadata": {},
     "output_type": "execute_result"
    }
   ],
   "source": [
    "enet_pval = pd.DataFrame(enet_OLS.pvalues).reset_index()\n",
    "\n",
    "enet_pval.rename(columns = {'index': 'feature', 0: 'pValue'}, inplace = True)\n",
    "enet_pval['pValue'] = enet_pval['pValue'].apply(lambda x: \"{:f}\".format(x))\n",
    "enet_pval['pValue'] = enet_pval['pValue'].astype(float)\n",
    "enet_pval[enet_pval['pValue'] <= 0.05]"
   ]
  },
  {
   "cell_type": "code",
   "execution_count": 16,
   "metadata": {},
   "outputs": [
    {
     "name": "stdout",
     "output_type": "stream",
     "text": [
      "The R2 of training set for ElasticNet is: 1.0\n",
      "The MSE of training set for ElasticNet is: 3.28%\n",
      "\n",
      "The R2 of testing set for ElasticNet is: 1.0\n",
      "The Adjusted R2 of testing set for ElasticNet is: 1.0\n",
      "The MSE of testing set for ElasticNet is: 13.65%\n",
      "\n",
      "The correlation of ElasticNet model is: 1.0\n"
     ]
    }
   ],
   "source": [
    "y_train_pred_enet = enet_OLS.predict(X_train_enet)\n",
    "train_r2_enet = round(metrics.r2_score(y_train, y_train_pred_enet), 2)\n",
    "print('The R2 of training set for ElasticNet is:', round(metrics.r2_score(y_train, y_train_pred_enet), 2))\n",
    "print('The MSE of training set for ElasticNet is:', (str(round(metrics.mean_squared_error(y_train, y_train_pred_enet), 2)) + '%'))\n",
    "\n",
    "y_test_pred_enet = enet_OLS.predict(X_test_enet)\n",
    "test_r2_enet = round(metrics.r2_score(y_test, y_test_pred_enet), 2)\n",
    "\n",
    "p_enet = X_test_enet.shape[1]  # Number of columns\n",
    "n_enet = len(y_test_pred_enet)  # Number of records\n",
    "\n",
    "# Calculate the adjusted R-squared\n",
    "adjusted_r2_enet = 1 - (1 - test_r2_enet) * ((n_enet - 1) / (n_enet - p_enet - 1))\n",
    "\n",
    "print('\\nThe R2 of testing set for ElasticNet is:', round(metrics.r2_score(y_test, y_test_pred_enet), 2))\n",
    "print('The Adjusted R2 of testing set for ElasticNet is:', round(adjusted_r2_enet, 2))\n",
    "print('The MSE of testing set for ElasticNet is:', (str(round(metrics.mean_squared_error(y_test, y_test_pred_enet), 2)) + '%'))\n",
    "\n",
    "# Correlation between y predicted and y\n",
    "corr_enet = ss.pearsonr(y_test_pred_enet, y_test)[0]\n",
    "print('\\nThe correlation of ElasticNet model is:', round(corr_enet, 2))"
   ]
  },
  {
   "cell_type": "code",
   "execution_count": 17,
   "metadata": {},
   "outputs": [
    {
     "data": {
      "image/png": "[encoded data removed]",
      "text/plain": [
       "<Figure size 1800x720 with 1 Axes>"
      ]
     },
     "metadata": {
      "needs_background": "light"
     },
     "output_type": "display_data"
    }
   ],
   "source": [
    "plt.figure(figsize = (25, 10))\n",
    "plt.plot(y_test, color = 'red', label = 'actual')\n",
    "plt.plot(y_test_pred_enet, color = 'blue', label = 'prediction')\n",
    "plt.title(\"Prediction using ElasticNet\", fontdict = {'fontsize': 20})\n",
    "plt.show()"
   ]
  },
  {
   "cell_type": "code",
   "execution_count": null,
   "metadata": {},
   "outputs": [],
   "source": []
  }
 ],
 "metadata": {
  "colab": {
   "provenance": []
  },
  "kernelspec": {
   "display_name": "Python 3 (ipykernel)",
   "language": "python",
   "name": "python3"
  },
  "language_info": {
   "codemirror_mode": {
    "name": "ipython",
    "version": 3
   },
   "file_extension": ".py",
   "mimetype": "text/x-python",
   "name": "python",
   "nbconvert_exporter": "python",
   "pygments_lexer": "ipython3",
   "version": "3.9.7"
  }
 },
 "nbformat": 4,
 "nbformat_minor": 1
}
