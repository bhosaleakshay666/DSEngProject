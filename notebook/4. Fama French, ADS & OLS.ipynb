{
 "cells": [
  {
   "cell_type": "markdown",
   "metadata": {
    "id": "vaQblInjJFmZ"
   },
   "source": [
    "# **TSLA Stock Data Pre-Processing**"
   ]
  },
  {
   "cell_type": "code",
   "execution_count": 1,
   "metadata": {
    "colab": {
     "base_uri": "https://localhost:8080/"
    },
    "id": "tgq93IZgr4k8",
    "outputId": "a62a4a47-9b2b-4931-dc5d-9ec1750f249d"
   },
   "outputs": [
    {
     "name": "stdout",
     "output_type": "stream",
     "text": [
      "Requirement already satisfied: ta in c:\\users\\aksha\\anaconda3\\lib\\site-packages (0.10.2)\n",
      "Requirement already satisfied: pandas in c:\\users\\aksha\\anaconda3\\lib\\site-packages (from ta) (1.3.4)\n",
      "Requirement already satisfied: numpy in c:\\users\\aksha\\anaconda3\\lib\\site-packages (from ta) (1.20.3)\n",
      "Requirement already satisfied: python-dateutil>=2.7.3 in c:\\users\\aksha\\anaconda3\\lib\\site-packages (from pandas->ta) (2.8.2)\n",
      "Requirement already satisfied: pytz>=2017.3 in c:\\users\\aksha\\anaconda3\\lib\\site-packages (from pandas->ta) (2021.3)\n",
      "Requirement already satisfied: six>=1.5 in c:\\users\\aksha\\anaconda3\\lib\\site-packages (from python-dateutil>=2.7.3->pandas->ta) (1.16.0)\n"
     ]
    },
    {
     "name": "stderr",
     "output_type": "stream",
     "text": [
      "\n",
      "[notice] A new release of pip available: 22.2.2 -> 23.2.1\n",
      "[notice] To update, run: python.exe -m pip install --upgrade pip\n"
     ]
    }
   ],
   "source": [
    "!pip install ta"
   ]
  },
  {
   "cell_type": "code",
   "execution_count": 3,
   "metadata": {
    "id": "ZftTXWBGr8SU"
   },
   "outputs": [],
   "source": [
    "import warnings\n",
    "warnings.filterwarnings(\"ignore\")\n",
    "\n",
    "import ta\n",
    "import numpy as np\n",
    "import pandas as pd\n",
    "import yfinance as yf\n",
    "import seaborn as sns\n",
    "import statsmodels as smt\n",
    "import statsmodels.api as sm\n",
    "from datetime import datetime\n",
    "import matplotlib.pyplot as plt\n",
    "import plotly.graph_objects as go"
   ]
  },
  {
   "cell_type": "markdown",
   "metadata": {
    "id": "PtLUeK0_JG_w"
   },
   "source": [
    "### Downloading TSLA Stock data from Yahoo Finance package"
   ]
  },
  {
   "cell_type": "markdown",
   "metadata": {
    "id": "mr0s-gKuLHxZ"
   },
   "source": [
    "Yahoo Finance is a widely used platform for accessing financial information, including stock market data, company profiles, historical stock prices, and more. To facilitate easy access to this data, there is a Python package called \"yfinance\" (short for Yahoo Finance) that provides a simple and convenient way to interact with Yahoo Finance's API.\n",
    "\n",
    "The yfinance package allows users to fetch financial data for stocks, exchange-traded funds (ETFs), indices, and more. It provides functions to download historical stock data, real-time stock quotes, company information, and financial statements. The package is built on top of the popular data manipulation library, pandas, making it easy to integrate with existing data analysis workflows.\n",
    "\n",
    "With yfinance, users can specify the desired stock ticker symbols, specify a date range, and retrieve a wide range of financial data. This includes daily historical prices, dividend information, stock splits, and more. The package also supports the ability to download data for multiple symbols at once, making it efficient for analyzing and comparing multiple stocks or assets.\n",
    "\n",
    "In addition to historical data, yfinance allows users to obtain real-time stock quotes, including the current price, volume, market capitalization, and other relevant metrics. This can be useful for monitoring real-time market activity or building trading algorithms.\n",
    "\n",
    "Overall, the yfinance package provides a convenient and efficient way to access and analyze financial data from Yahoo Finance using Python. It is a valuable tool for financial analysts, researchers, and developers who need to retrieve and analyze stock market data for various purposes."
   ]
  },
  {
   "cell_type": "code",
   "execution_count": 4,
   "metadata": {
    "colab": {
     "base_uri": "https://localhost:8080/"
    },
    "id": "DPP_D9Ztr9Xg",
    "outputId": "b3618470-e22f-4179-965b-acdb873293d2"
   },
   "outputs": [
    {
     "name": "stdout",
     "output_type": "stream",
     "text": [
      "[*********************100%%**********************]  1 of 1 completed\n"
     ]
    }
   ],
   "source": [
    "start_date = datetime(2017,1,1)\n",
    "end_date = datetime(2023,4,28)\n",
    "\n",
    "TSLA = yf.download('TSLA',start_date ,end_date)\n",
    "TSLA.reset_index(inplace=True)"
   ]
  },
  {
   "cell_type": "code",
   "execution_count": 5,
   "metadata": {
    "colab": {
     "base_uri": "https://localhost:8080/",
     "height": 424
    },
    "id": "KjEnC6Nhsuqd",
    "outputId": "32de64de-c228-47de-be9a-c683081dddde"
   },
   "outputs": [
    {
     "data": {
      "text/html": [
       "<div>\n",
       "<style scoped>\n",
       "    .dataframe tbody tr th:only-of-type {\n",
       "        vertical-align: middle;\n",
       "    }\n",
       "\n",
       "    .dataframe tbody tr th {\n",
       "        vertical-align: top;\n",
       "    }\n",
       "\n",
       "    .dataframe thead th {\n",
       "        text-align: right;\n",
       "    }\n",
       "</style>\n",
       "<table border=\"1\" class=\"dataframe\">\n",
       "  <thead>\n",
       "    <tr style=\"text-align: right;\">\n",
       "      <th></th>\n",
       "      <th>Date</th>\n",
       "      <th>Open</th>\n",
       "      <th>High</th>\n",
       "      <th>Low</th>\n",
       "      <th>Close</th>\n",
       "      <th>Adj Close</th>\n",
       "      <th>Volume</th>\n",
       "    </tr>\n",
       "  </thead>\n",
       "  <tbody>\n",
       "    <tr>\n",
       "      <th>0</th>\n",
       "      <td>2017-01-03</td>\n",
       "      <td>14.324000</td>\n",
       "      <td>14.688667</td>\n",
       "      <td>14.064000</td>\n",
       "      <td>14.466000</td>\n",
       "      <td>14.466000</td>\n",
       "      <td>88849500</td>\n",
       "    </tr>\n",
       "    <tr>\n",
       "      <th>1</th>\n",
       "      <td>2017-01-04</td>\n",
       "      <td>14.316667</td>\n",
       "      <td>15.200000</td>\n",
       "      <td>14.287333</td>\n",
       "      <td>15.132667</td>\n",
       "      <td>15.132667</td>\n",
       "      <td>168202500</td>\n",
       "    </tr>\n",
       "    <tr>\n",
       "      <th>2</th>\n",
       "      <td>2017-01-05</td>\n",
       "      <td>15.094667</td>\n",
       "      <td>15.165333</td>\n",
       "      <td>14.796667</td>\n",
       "      <td>15.116667</td>\n",
       "      <td>15.116667</td>\n",
       "      <td>88675500</td>\n",
       "    </tr>\n",
       "    <tr>\n",
       "      <th>3</th>\n",
       "      <td>2017-01-06</td>\n",
       "      <td>15.128667</td>\n",
       "      <td>15.354000</td>\n",
       "      <td>15.030000</td>\n",
       "      <td>15.267333</td>\n",
       "      <td>15.267333</td>\n",
       "      <td>82918500</td>\n",
       "    </tr>\n",
       "    <tr>\n",
       "      <th>4</th>\n",
       "      <td>2017-01-09</td>\n",
       "      <td>15.264667</td>\n",
       "      <td>15.461333</td>\n",
       "      <td>15.200000</td>\n",
       "      <td>15.418667</td>\n",
       "      <td>15.418667</td>\n",
       "      <td>59692500</td>\n",
       "    </tr>\n",
       "    <tr>\n",
       "      <th>...</th>\n",
       "      <td>...</td>\n",
       "      <td>...</td>\n",
       "      <td>...</td>\n",
       "      <td>...</td>\n",
       "      <td>...</td>\n",
       "      <td>...</td>\n",
       "      <td>...</td>\n",
       "    </tr>\n",
       "    <tr>\n",
       "      <th>1585</th>\n",
       "      <td>2023-04-21</td>\n",
       "      <td>164.800003</td>\n",
       "      <td>166.000000</td>\n",
       "      <td>161.320007</td>\n",
       "      <td>165.080002</td>\n",
       "      <td>165.080002</td>\n",
       "      <td>123539000</td>\n",
       "    </tr>\n",
       "    <tr>\n",
       "      <th>1586</th>\n",
       "      <td>2023-04-24</td>\n",
       "      <td>164.649994</td>\n",
       "      <td>165.649994</td>\n",
       "      <td>158.610001</td>\n",
       "      <td>162.550003</td>\n",
       "      <td>162.550003</td>\n",
       "      <td>140006600</td>\n",
       "    </tr>\n",
       "    <tr>\n",
       "      <th>1587</th>\n",
       "      <td>2023-04-25</td>\n",
       "      <td>159.820007</td>\n",
       "      <td>163.470001</td>\n",
       "      <td>158.750000</td>\n",
       "      <td>160.669998</td>\n",
       "      <td>160.669998</td>\n",
       "      <td>121999300</td>\n",
       "    </tr>\n",
       "    <tr>\n",
       "      <th>1588</th>\n",
       "      <td>2023-04-26</td>\n",
       "      <td>160.289993</td>\n",
       "      <td>160.669998</td>\n",
       "      <td>153.139999</td>\n",
       "      <td>153.750000</td>\n",
       "      <td>153.750000</td>\n",
       "      <td>153364100</td>\n",
       "    </tr>\n",
       "    <tr>\n",
       "      <th>1589</th>\n",
       "      <td>2023-04-27</td>\n",
       "      <td>152.639999</td>\n",
       "      <td>160.479996</td>\n",
       "      <td>152.369995</td>\n",
       "      <td>160.190002</td>\n",
       "      <td>160.190002</td>\n",
       "      <td>127015200</td>\n",
       "    </tr>\n",
       "  </tbody>\n",
       "</table>\n",
       "<p>1590 rows × 7 columns</p>\n",
       "</div>"
      ],
      "text/plain": [
       "           Date        Open        High         Low       Close   Adj Close  \\\n",
       "0    2017-01-03   14.324000   14.688667   14.064000   14.466000   14.466000   \n",
       "1    2017-01-04   14.316667   15.200000   14.287333   15.132667   15.132667   \n",
       "2    2017-01-05   15.094667   15.165333   14.796667   15.116667   15.116667   \n",
       "3    2017-01-06   15.128667   15.354000   15.030000   15.267333   15.267333   \n",
       "4    2017-01-09   15.264667   15.461333   15.200000   15.418667   15.418667   \n",
       "...         ...         ...         ...         ...         ...         ...   \n",
       "1585 2023-04-21  164.800003  166.000000  161.320007  165.080002  165.080002   \n",
       "1586 2023-04-24  164.649994  165.649994  158.610001  162.550003  162.550003   \n",
       "1587 2023-04-25  159.820007  163.470001  158.750000  160.669998  160.669998   \n",
       "1588 2023-04-26  160.289993  160.669998  153.139999  153.750000  153.750000   \n",
       "1589 2023-04-27  152.639999  160.479996  152.369995  160.190002  160.190002   \n",
       "\n",
       "         Volume  \n",
       "0      88849500  \n",
       "1     168202500  \n",
       "2      88675500  \n",
       "3      82918500  \n",
       "4      59692500  \n",
       "...         ...  \n",
       "1585  123539000  \n",
       "1586  140006600  \n",
       "1587  121999300  \n",
       "1588  153364100  \n",
       "1589  127015200  \n",
       "\n",
       "[1590 rows x 7 columns]"
      ]
     },
     "execution_count": 5,
     "metadata": {},
     "output_type": "execute_result"
    }
   ],
   "source": [
    "TSLA"
   ]
  },
  {
   "cell_type": "markdown",
   "metadata": {
    "id": "1l4XCsgdL1Ad"
   },
   "source": [
    "### Importing F-F Research Data Factors dataset"
   ]
  },
  {
   "cell_type": "markdown",
   "metadata": {
    "id": "qa2q0X0vJH9r"
   },
   "source": [
    "The F-F Research Data Factors daily dataset, also known as the Fama-French factors dataset, is a widely used financial dataset that provides daily risk factors for asset pricing models. It is named after its creators, Eugene Fama and Kenneth French, who developed the dataset to study and analyze stock returns.\n",
    "\n",
    "The dataset includes several factors that are commonly used in empirical finance research. These factors include the market risk premium (Mkt-RF), which represents the excess return of the overall market over the risk-free rate, and three additional factors: the size premium (SMB), the value premium (HML), and the risk-free rate (RF).\n",
    "\n",
    "The size premium (SMB) captures the excess return of small-cap stocks over large-cap stocks, while the value premium (HML) represents the excess return of value stocks over growth stocks. The risk-free rate (RF) is the return on a risk-free investment, such as Treasury bills.\n",
    "\n",
    "Researchers and analysts often use the F-F Research Data Factors daily dataset to investigate the relationship between these factors and stock returns. By incorporating these factors into asset pricing models, researchers can assess the performance and risk characteristics of various investment strategies and study the impact of different market factors on stock returns.\n",
    "\n",
    "The dataset is typically provided in a tabular format, such as a CSV file, allowing for easy integration into data analysis workflows using tools like Python's pandas library. Analysts can load the dataset, explore the factors' time series, and conduct various statistical analyses and modeling techniques to gain insights into the relationship between these factors and asset returns.\n",
    "\n",
    "Overall, the F-F Research Data Factors daily dataset is a valuable resource for researchers, academics, and financial professionals interested in studying asset pricing models, evaluating investment strategies, and analyzing stock market data."
   ]
  },
  {
   "cell_type": "code",
   "execution_count": 6,
   "metadata": {
    "id": "yZ8SSJwKshNP"
   },
   "outputs": [],
   "source": [
    "df_ff_features = pd.read_csv(\"F-F_Research_Data_Factors_daily.CSV\", skiprows=4)\n",
    "df_ff_features.rename(columns = {'Unnamed: 0':'Date'},inplace=True)"
   ]
  },
  {
   "cell_type": "code",
   "execution_count": 7,
   "metadata": {
    "colab": {
     "base_uri": "https://localhost:8080/",
     "height": 206
    },
    "id": "9QoIwbfpszd-",
    "outputId": "c8b54567-028d-4d12-9683-1865f1c24249"
   },
   "outputs": [
    {
     "data": {
      "text/html": [
       "<div>\n",
       "<style scoped>\n",
       "    .dataframe tbody tr th:only-of-type {\n",
       "        vertical-align: middle;\n",
       "    }\n",
       "\n",
       "    .dataframe tbody tr th {\n",
       "        vertical-align: top;\n",
       "    }\n",
       "\n",
       "    .dataframe thead th {\n",
       "        text-align: right;\n",
       "    }\n",
       "</style>\n",
       "<table border=\"1\" class=\"dataframe\">\n",
       "  <thead>\n",
       "    <tr style=\"text-align: right;\">\n",
       "      <th></th>\n",
       "      <th>Date</th>\n",
       "      <th>Mkt-RF</th>\n",
       "      <th>SMB</th>\n",
       "      <th>HML</th>\n",
       "      <th>RF</th>\n",
       "    </tr>\n",
       "  </thead>\n",
       "  <tbody>\n",
       "    <tr>\n",
       "      <th>25476</th>\n",
       "      <td>20230425</td>\n",
       "      <td>-1.76</td>\n",
       "      <td>-0.99</td>\n",
       "      <td>0.10</td>\n",
       "      <td>0.018</td>\n",
       "    </tr>\n",
       "    <tr>\n",
       "      <th>25477</th>\n",
       "      <td>20230426</td>\n",
       "      <td>-0.41</td>\n",
       "      <td>0.15</td>\n",
       "      <td>-0.75</td>\n",
       "      <td>0.018</td>\n",
       "    </tr>\n",
       "    <tr>\n",
       "      <th>25478</th>\n",
       "      <td>20230427</td>\n",
       "      <td>1.85</td>\n",
       "      <td>-0.56</td>\n",
       "      <td>0.00</td>\n",
       "      <td>0.018</td>\n",
       "    </tr>\n",
       "    <tr>\n",
       "      <th>25479</th>\n",
       "      <td>20230428</td>\n",
       "      <td>0.77</td>\n",
       "      <td>0.14</td>\n",
       "      <td>0.17</td>\n",
       "      <td>0.018</td>\n",
       "    </tr>\n",
       "    <tr>\n",
       "      <th>25480</th>\n",
       "      <td>Copyright 2023 Kenneth R. French</td>\n",
       "      <td>NaN</td>\n",
       "      <td>NaN</td>\n",
       "      <td>NaN</td>\n",
       "      <td>NaN</td>\n",
       "    </tr>\n",
       "  </tbody>\n",
       "</table>\n",
       "</div>"
      ],
      "text/plain": [
       "                                   Date  Mkt-RF   SMB   HML     RF\n",
       "25476                          20230425   -1.76 -0.99  0.10  0.018\n",
       "25477                          20230426   -0.41  0.15 -0.75  0.018\n",
       "25478                          20230427    1.85 -0.56  0.00  0.018\n",
       "25479                          20230428    0.77  0.14  0.17  0.018\n",
       "25480  Copyright 2023 Kenneth R. French     NaN   NaN   NaN    NaN"
      ]
     },
     "execution_count": 7,
     "metadata": {},
     "output_type": "execute_result"
    }
   ],
   "source": [
    "df_ff_features.tail()"
   ]
  },
  {
   "cell_type": "code",
   "execution_count": 8,
   "metadata": {
    "colab": {
     "base_uri": "https://localhost:8080/",
     "height": 424
    },
    "id": "5zaf4lzItqD_",
    "outputId": "2c649049-e9d9-4f35-a0dd-541c59dac2de"
   },
   "outputs": [
    {
     "data": {
      "text/html": [
       "<div>\n",
       "<style scoped>\n",
       "    .dataframe tbody tr th:only-of-type {\n",
       "        vertical-align: middle;\n",
       "    }\n",
       "\n",
       "    .dataframe tbody tr th {\n",
       "        vertical-align: top;\n",
       "    }\n",
       "\n",
       "    .dataframe thead th {\n",
       "        text-align: right;\n",
       "    }\n",
       "</style>\n",
       "<table border=\"1\" class=\"dataframe\">\n",
       "  <thead>\n",
       "    <tr style=\"text-align: right;\">\n",
       "      <th></th>\n",
       "      <th>Date</th>\n",
       "      <th>Mkt-RF</th>\n",
       "      <th>SMB</th>\n",
       "      <th>HML</th>\n",
       "      <th>RF</th>\n",
       "    </tr>\n",
       "  </thead>\n",
       "  <tbody>\n",
       "    <tr>\n",
       "      <th>23889</th>\n",
       "      <td>2017-01-03</td>\n",
       "      <td>0.83</td>\n",
       "      <td>-0.13</td>\n",
       "      <td>0.05</td>\n",
       "      <td>0.002</td>\n",
       "    </tr>\n",
       "    <tr>\n",
       "      <th>23890</th>\n",
       "      <td>2017-01-04</td>\n",
       "      <td>0.79</td>\n",
       "      <td>0.95</td>\n",
       "      <td>-0.16</td>\n",
       "      <td>0.002</td>\n",
       "    </tr>\n",
       "    <tr>\n",
       "      <th>23891</th>\n",
       "      <td>2017-01-05</td>\n",
       "      <td>-0.21</td>\n",
       "      <td>-0.88</td>\n",
       "      <td>-0.79</td>\n",
       "      <td>0.002</td>\n",
       "    </tr>\n",
       "    <tr>\n",
       "      <th>23892</th>\n",
       "      <td>2017-01-06</td>\n",
       "      <td>0.29</td>\n",
       "      <td>-0.66</td>\n",
       "      <td>-0.31</td>\n",
       "      <td>0.002</td>\n",
       "    </tr>\n",
       "    <tr>\n",
       "      <th>23893</th>\n",
       "      <td>2017-01-09</td>\n",
       "      <td>-0.37</td>\n",
       "      <td>-0.29</td>\n",
       "      <td>-1.04</td>\n",
       "      <td>0.002</td>\n",
       "    </tr>\n",
       "    <tr>\n",
       "      <th>...</th>\n",
       "      <td>...</td>\n",
       "      <td>...</td>\n",
       "      <td>...</td>\n",
       "      <td>...</td>\n",
       "      <td>...</td>\n",
       "    </tr>\n",
       "    <tr>\n",
       "      <th>25474</th>\n",
       "      <td>2023-04-21</td>\n",
       "      <td>0.07</td>\n",
       "      <td>0.26</td>\n",
       "      <td>-0.92</td>\n",
       "      <td>0.018</td>\n",
       "    </tr>\n",
       "    <tr>\n",
       "      <th>25475</th>\n",
       "      <td>2023-04-24</td>\n",
       "      <td>0.00</td>\n",
       "      <td>-0.40</td>\n",
       "      <td>0.47</td>\n",
       "      <td>0.018</td>\n",
       "    </tr>\n",
       "    <tr>\n",
       "      <th>25476</th>\n",
       "      <td>2023-04-25</td>\n",
       "      <td>-1.76</td>\n",
       "      <td>-0.99</td>\n",
       "      <td>0.10</td>\n",
       "      <td>0.018</td>\n",
       "    </tr>\n",
       "    <tr>\n",
       "      <th>25477</th>\n",
       "      <td>2023-04-26</td>\n",
       "      <td>-0.41</td>\n",
       "      <td>0.15</td>\n",
       "      <td>-0.75</td>\n",
       "      <td>0.018</td>\n",
       "    </tr>\n",
       "    <tr>\n",
       "      <th>25478</th>\n",
       "      <td>2023-04-27</td>\n",
       "      <td>1.85</td>\n",
       "      <td>-0.56</td>\n",
       "      <td>0.00</td>\n",
       "      <td>0.018</td>\n",
       "    </tr>\n",
       "  </tbody>\n",
       "</table>\n",
       "<p>1590 rows × 5 columns</p>\n",
       "</div>"
      ],
      "text/plain": [
       "            Date  Mkt-RF   SMB   HML     RF\n",
       "23889 2017-01-03    0.83 -0.13  0.05  0.002\n",
       "23890 2017-01-04    0.79  0.95 -0.16  0.002\n",
       "23891 2017-01-05   -0.21 -0.88 -0.79  0.002\n",
       "23892 2017-01-06    0.29 -0.66 -0.31  0.002\n",
       "23893 2017-01-09   -0.37 -0.29 -1.04  0.002\n",
       "...          ...     ...   ...   ...    ...\n",
       "25474 2023-04-21    0.07  0.26 -0.92  0.018\n",
       "25475 2023-04-24    0.00 -0.40  0.47  0.018\n",
       "25476 2023-04-25   -1.76 -0.99  0.10  0.018\n",
       "25477 2023-04-26   -0.41  0.15 -0.75  0.018\n",
       "25478 2023-04-27    1.85 -0.56  0.00  0.018\n",
       "\n",
       "[1590 rows x 5 columns]"
      ]
     },
     "execution_count": 8,
     "metadata": {},
     "output_type": "execute_result"
    }
   ],
   "source": [
    "df_ff_features.reset_index(drop = True, inplace= True)\n",
    "df_ff_features = df_ff_features[(df_ff_features.Date > '20170101') & (df_ff_features.Date <= '20230427')]\n",
    "df_ff_features['Date']=pd.to_datetime(df_ff_features['Date'])\n",
    "df_ff_features"
   ]
  },
  {
   "cell_type": "code",
   "execution_count": 9,
   "metadata": {
    "id": "NQY4o7_Bvmq5"
   },
   "outputs": [],
   "source": [
    "TSLA_Final = TSLA.merge(df_ff_features, how='left', on='Date')"
   ]
  },
  {
   "cell_type": "code",
   "execution_count": 10,
   "metadata": {
    "colab": {
     "base_uri": "https://localhost:8080/",
     "height": 424
    },
    "id": "2DkFWJTOvyg8",
    "outputId": "8434b67b-2457-4f10-a0e8-257750ddd6fc"
   },
   "outputs": [
    {
     "data": {
      "text/html": [
       "<div>\n",
       "<style scoped>\n",
       "    .dataframe tbody tr th:only-of-type {\n",
       "        vertical-align: middle;\n",
       "    }\n",
       "\n",
       "    .dataframe tbody tr th {\n",
       "        vertical-align: top;\n",
       "    }\n",
       "\n",
       "    .dataframe thead th {\n",
       "        text-align: right;\n",
       "    }\n",
       "</style>\n",
       "<table border=\"1\" class=\"dataframe\">\n",
       "  <thead>\n",
       "    <tr style=\"text-align: right;\">\n",
       "      <th></th>\n",
       "      <th>Date</th>\n",
       "      <th>Open</th>\n",
       "      <th>High</th>\n",
       "      <th>Low</th>\n",
       "      <th>Close</th>\n",
       "      <th>Adj Close</th>\n",
       "      <th>Volume</th>\n",
       "      <th>Mkt-RF</th>\n",
       "      <th>SMB</th>\n",
       "      <th>HML</th>\n",
       "      <th>RF</th>\n",
       "    </tr>\n",
       "  </thead>\n",
       "  <tbody>\n",
       "    <tr>\n",
       "      <th>0</th>\n",
       "      <td>2017-01-03</td>\n",
       "      <td>14.324000</td>\n",
       "      <td>14.688667</td>\n",
       "      <td>14.064000</td>\n",
       "      <td>14.466000</td>\n",
       "      <td>14.466000</td>\n",
       "      <td>88849500</td>\n",
       "      <td>0.83</td>\n",
       "      <td>-0.13</td>\n",
       "      <td>0.05</td>\n",
       "      <td>0.002</td>\n",
       "    </tr>\n",
       "    <tr>\n",
       "      <th>1</th>\n",
       "      <td>2017-01-04</td>\n",
       "      <td>14.316667</td>\n",
       "      <td>15.200000</td>\n",
       "      <td>14.287333</td>\n",
       "      <td>15.132667</td>\n",
       "      <td>15.132667</td>\n",
       "      <td>168202500</td>\n",
       "      <td>0.79</td>\n",
       "      <td>0.95</td>\n",
       "      <td>-0.16</td>\n",
       "      <td>0.002</td>\n",
       "    </tr>\n",
       "    <tr>\n",
       "      <th>2</th>\n",
       "      <td>2017-01-05</td>\n",
       "      <td>15.094667</td>\n",
       "      <td>15.165333</td>\n",
       "      <td>14.796667</td>\n",
       "      <td>15.116667</td>\n",
       "      <td>15.116667</td>\n",
       "      <td>88675500</td>\n",
       "      <td>-0.21</td>\n",
       "      <td>-0.88</td>\n",
       "      <td>-0.79</td>\n",
       "      <td>0.002</td>\n",
       "    </tr>\n",
       "    <tr>\n",
       "      <th>3</th>\n",
       "      <td>2017-01-06</td>\n",
       "      <td>15.128667</td>\n",
       "      <td>15.354000</td>\n",
       "      <td>15.030000</td>\n",
       "      <td>15.267333</td>\n",
       "      <td>15.267333</td>\n",
       "      <td>82918500</td>\n",
       "      <td>0.29</td>\n",
       "      <td>-0.66</td>\n",
       "      <td>-0.31</td>\n",
       "      <td>0.002</td>\n",
       "    </tr>\n",
       "    <tr>\n",
       "      <th>4</th>\n",
       "      <td>2017-01-09</td>\n",
       "      <td>15.264667</td>\n",
       "      <td>15.461333</td>\n",
       "      <td>15.200000</td>\n",
       "      <td>15.418667</td>\n",
       "      <td>15.418667</td>\n",
       "      <td>59692500</td>\n",
       "      <td>-0.37</td>\n",
       "      <td>-0.29</td>\n",
       "      <td>-1.04</td>\n",
       "      <td>0.002</td>\n",
       "    </tr>\n",
       "    <tr>\n",
       "      <th>...</th>\n",
       "      <td>...</td>\n",
       "      <td>...</td>\n",
       "      <td>...</td>\n",
       "      <td>...</td>\n",
       "      <td>...</td>\n",
       "      <td>...</td>\n",
       "      <td>...</td>\n",
       "      <td>...</td>\n",
       "      <td>...</td>\n",
       "      <td>...</td>\n",
       "      <td>...</td>\n",
       "    </tr>\n",
       "    <tr>\n",
       "      <th>1585</th>\n",
       "      <td>2023-04-21</td>\n",
       "      <td>164.800003</td>\n",
       "      <td>166.000000</td>\n",
       "      <td>161.320007</td>\n",
       "      <td>165.080002</td>\n",
       "      <td>165.080002</td>\n",
       "      <td>123539000</td>\n",
       "      <td>0.07</td>\n",
       "      <td>0.26</td>\n",
       "      <td>-0.92</td>\n",
       "      <td>0.018</td>\n",
       "    </tr>\n",
       "    <tr>\n",
       "      <th>1586</th>\n",
       "      <td>2023-04-24</td>\n",
       "      <td>164.649994</td>\n",
       "      <td>165.649994</td>\n",
       "      <td>158.610001</td>\n",
       "      <td>162.550003</td>\n",
       "      <td>162.550003</td>\n",
       "      <td>140006600</td>\n",
       "      <td>0.00</td>\n",
       "      <td>-0.40</td>\n",
       "      <td>0.47</td>\n",
       "      <td>0.018</td>\n",
       "    </tr>\n",
       "    <tr>\n",
       "      <th>1587</th>\n",
       "      <td>2023-04-25</td>\n",
       "      <td>159.820007</td>\n",
       "      <td>163.470001</td>\n",
       "      <td>158.750000</td>\n",
       "      <td>160.669998</td>\n",
       "      <td>160.669998</td>\n",
       "      <td>121999300</td>\n",
       "      <td>-1.76</td>\n",
       "      <td>-0.99</td>\n",
       "      <td>0.10</td>\n",
       "      <td>0.018</td>\n",
       "    </tr>\n",
       "    <tr>\n",
       "      <th>1588</th>\n",
       "      <td>2023-04-26</td>\n",
       "      <td>160.289993</td>\n",
       "      <td>160.669998</td>\n",
       "      <td>153.139999</td>\n",
       "      <td>153.750000</td>\n",
       "      <td>153.750000</td>\n",
       "      <td>153364100</td>\n",
       "      <td>-0.41</td>\n",
       "      <td>0.15</td>\n",
       "      <td>-0.75</td>\n",
       "      <td>0.018</td>\n",
       "    </tr>\n",
       "    <tr>\n",
       "      <th>1589</th>\n",
       "      <td>2023-04-27</td>\n",
       "      <td>152.639999</td>\n",
       "      <td>160.479996</td>\n",
       "      <td>152.369995</td>\n",
       "      <td>160.190002</td>\n",
       "      <td>160.190002</td>\n",
       "      <td>127015200</td>\n",
       "      <td>1.85</td>\n",
       "      <td>-0.56</td>\n",
       "      <td>0.00</td>\n",
       "      <td>0.018</td>\n",
       "    </tr>\n",
       "  </tbody>\n",
       "</table>\n",
       "<p>1590 rows × 11 columns</p>\n",
       "</div>"
      ],
      "text/plain": [
       "           Date        Open        High         Low       Close   Adj Close  \\\n",
       "0    2017-01-03   14.324000   14.688667   14.064000   14.466000   14.466000   \n",
       "1    2017-01-04   14.316667   15.200000   14.287333   15.132667   15.132667   \n",
       "2    2017-01-05   15.094667   15.165333   14.796667   15.116667   15.116667   \n",
       "3    2017-01-06   15.128667   15.354000   15.030000   15.267333   15.267333   \n",
       "4    2017-01-09   15.264667   15.461333   15.200000   15.418667   15.418667   \n",
       "...         ...         ...         ...         ...         ...         ...   \n",
       "1585 2023-04-21  164.800003  166.000000  161.320007  165.080002  165.080002   \n",
       "1586 2023-04-24  164.649994  165.649994  158.610001  162.550003  162.550003   \n",
       "1587 2023-04-25  159.820007  163.470001  158.750000  160.669998  160.669998   \n",
       "1588 2023-04-26  160.289993  160.669998  153.139999  153.750000  153.750000   \n",
       "1589 2023-04-27  152.639999  160.479996  152.369995  160.190002  160.190002   \n",
       "\n",
       "         Volume  Mkt-RF   SMB   HML     RF  \n",
       "0      88849500    0.83 -0.13  0.05  0.002  \n",
       "1     168202500    0.79  0.95 -0.16  0.002  \n",
       "2      88675500   -0.21 -0.88 -0.79  0.002  \n",
       "3      82918500    0.29 -0.66 -0.31  0.002  \n",
       "4      59692500   -0.37 -0.29 -1.04  0.002  \n",
       "...         ...     ...   ...   ...    ...  \n",
       "1585  123539000    0.07  0.26 -0.92  0.018  \n",
       "1586  140006600    0.00 -0.40  0.47  0.018  \n",
       "1587  121999300   -1.76 -0.99  0.10  0.018  \n",
       "1588  153364100   -0.41  0.15 -0.75  0.018  \n",
       "1589  127015200    1.85 -0.56  0.00  0.018  \n",
       "\n",
       "[1590 rows x 11 columns]"
      ]
     },
     "execution_count": 10,
     "metadata": {},
     "output_type": "execute_result"
    }
   ],
   "source": [
    "TSLA_Final"
   ]
  },
  {
   "cell_type": "code",
   "execution_count": 11,
   "metadata": {
    "id": "iu2PmMy-wnM4"
   },
   "outputs": [],
   "source": [
    "# Yesterday's Close Price\n",
    "TSLA_Final['Yest_Close']  = TSLA_Final['Adj Close'].shift(1)"
   ]
  },
  {
   "cell_type": "code",
   "execution_count": 12,
   "metadata": {
    "id": "esCwAA3uw0r0"
   },
   "outputs": [],
   "source": [
    "# Tesla Stock Returns\n",
    "TSLA_Final['stock_return'] = (TSLA_Final['Adj Close']-TSLA_Final['Yest_Close'])/(TSLA_Final['Yest_Close'])"
   ]
  },
  {
   "cell_type": "code",
   "execution_count": 13,
   "metadata": {
    "colab": {
     "base_uri": "https://localhost:8080/",
     "height": 424
    },
    "id": "WHzTn4OfxDKc",
    "outputId": "b177fa7a-030a-4080-a435-57b4026527a2"
   },
   "outputs": [
    {
     "data": {
      "text/html": [
       "<div>\n",
       "<style scoped>\n",
       "    .dataframe tbody tr th:only-of-type {\n",
       "        vertical-align: middle;\n",
       "    }\n",
       "\n",
       "    .dataframe tbody tr th {\n",
       "        vertical-align: top;\n",
       "    }\n",
       "\n",
       "    .dataframe thead th {\n",
       "        text-align: right;\n",
       "    }\n",
       "</style>\n",
       "<table border=\"1\" class=\"dataframe\">\n",
       "  <thead>\n",
       "    <tr style=\"text-align: right;\">\n",
       "      <th></th>\n",
       "      <th>Date</th>\n",
       "      <th>Open</th>\n",
       "      <th>High</th>\n",
       "      <th>Low</th>\n",
       "      <th>Close</th>\n",
       "      <th>Adj Close</th>\n",
       "      <th>Volume</th>\n",
       "      <th>Mkt-RF</th>\n",
       "      <th>SMB</th>\n",
       "      <th>HML</th>\n",
       "      <th>RF</th>\n",
       "      <th>Yest_Close</th>\n",
       "      <th>stock_return</th>\n",
       "    </tr>\n",
       "  </thead>\n",
       "  <tbody>\n",
       "    <tr>\n",
       "      <th>0</th>\n",
       "      <td>2017-01-03</td>\n",
       "      <td>14.324000</td>\n",
       "      <td>14.688667</td>\n",
       "      <td>14.064000</td>\n",
       "      <td>14.466000</td>\n",
       "      <td>14.466000</td>\n",
       "      <td>88849500</td>\n",
       "      <td>0.83</td>\n",
       "      <td>-0.13</td>\n",
       "      <td>0.05</td>\n",
       "      <td>0.002</td>\n",
       "      <td>NaN</td>\n",
       "      <td>NaN</td>\n",
       "    </tr>\n",
       "    <tr>\n",
       "      <th>1</th>\n",
       "      <td>2017-01-04</td>\n",
       "      <td>14.316667</td>\n",
       "      <td>15.200000</td>\n",
       "      <td>14.287333</td>\n",
       "      <td>15.132667</td>\n",
       "      <td>15.132667</td>\n",
       "      <td>168202500</td>\n",
       "      <td>0.79</td>\n",
       "      <td>0.95</td>\n",
       "      <td>-0.16</td>\n",
       "      <td>0.002</td>\n",
       "      <td>14.466000</td>\n",
       "      <td>0.046085</td>\n",
       "    </tr>\n",
       "    <tr>\n",
       "      <th>2</th>\n",
       "      <td>2017-01-05</td>\n",
       "      <td>15.094667</td>\n",
       "      <td>15.165333</td>\n",
       "      <td>14.796667</td>\n",
       "      <td>15.116667</td>\n",
       "      <td>15.116667</td>\n",
       "      <td>88675500</td>\n",
       "      <td>-0.21</td>\n",
       "      <td>-0.88</td>\n",
       "      <td>-0.79</td>\n",
       "      <td>0.002</td>\n",
       "      <td>15.132667</td>\n",
       "      <td>-0.001057</td>\n",
       "    </tr>\n",
       "    <tr>\n",
       "      <th>3</th>\n",
       "      <td>2017-01-06</td>\n",
       "      <td>15.128667</td>\n",
       "      <td>15.354000</td>\n",
       "      <td>15.030000</td>\n",
       "      <td>15.267333</td>\n",
       "      <td>15.267333</td>\n",
       "      <td>82918500</td>\n",
       "      <td>0.29</td>\n",
       "      <td>-0.66</td>\n",
       "      <td>-0.31</td>\n",
       "      <td>0.002</td>\n",
       "      <td>15.116667</td>\n",
       "      <td>0.009967</td>\n",
       "    </tr>\n",
       "    <tr>\n",
       "      <th>4</th>\n",
       "      <td>2017-01-09</td>\n",
       "      <td>15.264667</td>\n",
       "      <td>15.461333</td>\n",
       "      <td>15.200000</td>\n",
       "      <td>15.418667</td>\n",
       "      <td>15.418667</td>\n",
       "      <td>59692500</td>\n",
       "      <td>-0.37</td>\n",
       "      <td>-0.29</td>\n",
       "      <td>-1.04</td>\n",
       "      <td>0.002</td>\n",
       "      <td>15.267333</td>\n",
       "      <td>0.009912</td>\n",
       "    </tr>\n",
       "    <tr>\n",
       "      <th>...</th>\n",
       "      <td>...</td>\n",
       "      <td>...</td>\n",
       "      <td>...</td>\n",
       "      <td>...</td>\n",
       "      <td>...</td>\n",
       "      <td>...</td>\n",
       "      <td>...</td>\n",
       "      <td>...</td>\n",
       "      <td>...</td>\n",
       "      <td>...</td>\n",
       "      <td>...</td>\n",
       "      <td>...</td>\n",
       "      <td>...</td>\n",
       "    </tr>\n",
       "    <tr>\n",
       "      <th>1585</th>\n",
       "      <td>2023-04-21</td>\n",
       "      <td>164.800003</td>\n",
       "      <td>166.000000</td>\n",
       "      <td>161.320007</td>\n",
       "      <td>165.080002</td>\n",
       "      <td>165.080002</td>\n",
       "      <td>123539000</td>\n",
       "      <td>0.07</td>\n",
       "      <td>0.26</td>\n",
       "      <td>-0.92</td>\n",
       "      <td>0.018</td>\n",
       "      <td>162.990005</td>\n",
       "      <td>0.012823</td>\n",
       "    </tr>\n",
       "    <tr>\n",
       "      <th>1586</th>\n",
       "      <td>2023-04-24</td>\n",
       "      <td>164.649994</td>\n",
       "      <td>165.649994</td>\n",
       "      <td>158.610001</td>\n",
       "      <td>162.550003</td>\n",
       "      <td>162.550003</td>\n",
       "      <td>140006600</td>\n",
       "      <td>0.00</td>\n",
       "      <td>-0.40</td>\n",
       "      <td>0.47</td>\n",
       "      <td>0.018</td>\n",
       "      <td>165.080002</td>\n",
       "      <td>-0.015326</td>\n",
       "    </tr>\n",
       "    <tr>\n",
       "      <th>1587</th>\n",
       "      <td>2023-04-25</td>\n",
       "      <td>159.820007</td>\n",
       "      <td>163.470001</td>\n",
       "      <td>158.750000</td>\n",
       "      <td>160.669998</td>\n",
       "      <td>160.669998</td>\n",
       "      <td>121999300</td>\n",
       "      <td>-1.76</td>\n",
       "      <td>-0.99</td>\n",
       "      <td>0.10</td>\n",
       "      <td>0.018</td>\n",
       "      <td>162.550003</td>\n",
       "      <td>-0.011566</td>\n",
       "    </tr>\n",
       "    <tr>\n",
       "      <th>1588</th>\n",
       "      <td>2023-04-26</td>\n",
       "      <td>160.289993</td>\n",
       "      <td>160.669998</td>\n",
       "      <td>153.139999</td>\n",
       "      <td>153.750000</td>\n",
       "      <td>153.750000</td>\n",
       "      <td>153364100</td>\n",
       "      <td>-0.41</td>\n",
       "      <td>0.15</td>\n",
       "      <td>-0.75</td>\n",
       "      <td>0.018</td>\n",
       "      <td>160.669998</td>\n",
       "      <td>-0.043070</td>\n",
       "    </tr>\n",
       "    <tr>\n",
       "      <th>1589</th>\n",
       "      <td>2023-04-27</td>\n",
       "      <td>152.639999</td>\n",
       "      <td>160.479996</td>\n",
       "      <td>152.369995</td>\n",
       "      <td>160.190002</td>\n",
       "      <td>160.190002</td>\n",
       "      <td>127015200</td>\n",
       "      <td>1.85</td>\n",
       "      <td>-0.56</td>\n",
       "      <td>0.00</td>\n",
       "      <td>0.018</td>\n",
       "      <td>153.750000</td>\n",
       "      <td>0.041886</td>\n",
       "    </tr>\n",
       "  </tbody>\n",
       "</table>\n",
       "<p>1590 rows × 13 columns</p>\n",
       "</div>"
      ],
      "text/plain": [
       "           Date        Open        High         Low       Close   Adj Close  \\\n",
       "0    2017-01-03   14.324000   14.688667   14.064000   14.466000   14.466000   \n",
       "1    2017-01-04   14.316667   15.200000   14.287333   15.132667   15.132667   \n",
       "2    2017-01-05   15.094667   15.165333   14.796667   15.116667   15.116667   \n",
       "3    2017-01-06   15.128667   15.354000   15.030000   15.267333   15.267333   \n",
       "4    2017-01-09   15.264667   15.461333   15.200000   15.418667   15.418667   \n",
       "...         ...         ...         ...         ...         ...         ...   \n",
       "1585 2023-04-21  164.800003  166.000000  161.320007  165.080002  165.080002   \n",
       "1586 2023-04-24  164.649994  165.649994  158.610001  162.550003  162.550003   \n",
       "1587 2023-04-25  159.820007  163.470001  158.750000  160.669998  160.669998   \n",
       "1588 2023-04-26  160.289993  160.669998  153.139999  153.750000  153.750000   \n",
       "1589 2023-04-27  152.639999  160.479996  152.369995  160.190002  160.190002   \n",
       "\n",
       "         Volume  Mkt-RF   SMB   HML     RF  Yest_Close  stock_return  \n",
       "0      88849500    0.83 -0.13  0.05  0.002         NaN           NaN  \n",
       "1     168202500    0.79  0.95 -0.16  0.002   14.466000      0.046085  \n",
       "2      88675500   -0.21 -0.88 -0.79  0.002   15.132667     -0.001057  \n",
       "3      82918500    0.29 -0.66 -0.31  0.002   15.116667      0.009967  \n",
       "4      59692500   -0.37 -0.29 -1.04  0.002   15.267333      0.009912  \n",
       "...         ...     ...   ...   ...    ...         ...           ...  \n",
       "1585  123539000    0.07  0.26 -0.92  0.018  162.990005      0.012823  \n",
       "1586  140006600    0.00 -0.40  0.47  0.018  165.080002     -0.015326  \n",
       "1587  121999300   -1.76 -0.99  0.10  0.018  162.550003     -0.011566  \n",
       "1588  153364100   -0.41  0.15 -0.75  0.018  160.669998     -0.043070  \n",
       "1589  127015200    1.85 -0.56  0.00  0.018  153.750000      0.041886  \n",
       "\n",
       "[1590 rows x 13 columns]"
      ]
     },
     "execution_count": 13,
     "metadata": {},
     "output_type": "execute_result"
    }
   ],
   "source": [
    "TSLA_Final"
   ]
  },
  {
   "cell_type": "code",
   "execution_count": 14,
   "metadata": {
    "id": "Tds-6fMwx1p2"
   },
   "outputs": [],
   "source": [
    "TSLA_Final = TSLA_Final[TSLA_Final['Yest_Close'].notna()]\n",
    "TSLA_Final = TSLA_Final[TSLA_Final['Mkt-RF'].notna()]\n",
    "TSLA_Final = TSLA_Final[TSLA_Final['SMB'].notna()]\n",
    "TSLA_Final = TSLA_Final[TSLA_Final['HML'].notna()]\n",
    "TSLA_Final = TSLA_Final[TSLA_Final['RF'].notna()]"
   ]
  },
  {
   "cell_type": "markdown",
   "metadata": {
    "id": "gvhgZ5hlKO7q"
   },
   "source": [
    "### Adding Extra Additional Stock Features of Moving Averages, MACD & RSI"
   ]
  },
  {
   "cell_type": "code",
   "execution_count": 15,
   "metadata": {
    "id": "tJNAZWv7xX_O"
   },
   "outputs": [],
   "source": [
    "# Calculate additional features\n",
    "TSLA_Final[\"SMA_20\"] = ta.trend.sma_indicator(TSLA_Final[\"Close\"], window=20, fillna = True)\n",
    "TSLA_Final[\"SMA_50\"] = ta.trend.sma_indicator(TSLA_Final[\"Close\"], window=50, fillna = True)\n",
    "\n",
    "TSLA_Final[\"EMA_12\"] = ta.trend.ema_indicator(TSLA_Final[\"Close\"], window=12, fillna = True)\n",
    "TSLA_Final[\"EMA_26\"] = ta.trend.ema_indicator(TSLA_Final[\"Close\"], window=26, fillna = True)\n",
    "TSLA_Final[\"MACD\"] = ta.trend.macd(TSLA_Final[\"Close\"], fillna = True)\n",
    "\n",
    "TSLA_Final[\"RSI\"] = ta.momentum.rsi(TSLA_Final[\"Close\"], fillna = True)"
   ]
  },
  {
   "cell_type": "code",
   "execution_count": 17,
   "metadata": {
    "colab": {
     "base_uri": "https://localhost:8080/",
     "height": 679
    },
    "id": "hBdvEiQLyaME",
    "outputId": "7944ef1e-b5a7-4542-f0a4-7d08007c2a66"
   },
   "outputs": [
    {
     "data": {
      "text/html": [
       "<div>\n",
       "<style scoped>\n",
       "    .dataframe tbody tr th:only-of-type {\n",
       "        vertical-align: middle;\n",
       "    }\n",
       "\n",
       "    .dataframe tbody tr th {\n",
       "        vertical-align: top;\n",
       "    }\n",
       "\n",
       "    .dataframe thead th {\n",
       "        text-align: right;\n",
       "    }\n",
       "</style>\n",
       "<table border=\"1\" class=\"dataframe\">\n",
       "  <thead>\n",
       "    <tr style=\"text-align: right;\">\n",
       "      <th></th>\n",
       "      <th>Date</th>\n",
       "      <th>Open</th>\n",
       "      <th>High</th>\n",
       "      <th>Low</th>\n",
       "      <th>Close</th>\n",
       "      <th>Adj Close</th>\n",
       "      <th>Volume</th>\n",
       "      <th>Mkt-RF</th>\n",
       "      <th>SMB</th>\n",
       "      <th>HML</th>\n",
       "      <th>RF</th>\n",
       "      <th>Yest_Close</th>\n",
       "      <th>stock_return</th>\n",
       "      <th>SMA_20</th>\n",
       "      <th>SMA_50</th>\n",
       "      <th>EMA_12</th>\n",
       "      <th>EMA_26</th>\n",
       "      <th>MACD</th>\n",
       "      <th>RSI</th>\n",
       "    </tr>\n",
       "  </thead>\n",
       "  <tbody>\n",
       "    <tr>\n",
       "      <th>1</th>\n",
       "      <td>2017-01-04</td>\n",
       "      <td>14.316667</td>\n",
       "      <td>15.200000</td>\n",
       "      <td>14.287333</td>\n",
       "      <td>15.132667</td>\n",
       "      <td>15.132667</td>\n",
       "      <td>168202500</td>\n",
       "      <td>0.79</td>\n",
       "      <td>0.95</td>\n",
       "      <td>-0.16</td>\n",
       "      <td>0.002</td>\n",
       "      <td>14.466000</td>\n",
       "      <td>0.046085</td>\n",
       "      <td>15.132667</td>\n",
       "      <td>15.132667</td>\n",
       "      <td>15.132667</td>\n",
       "      <td>15.132667</td>\n",
       "      <td>0.000000</td>\n",
       "      <td>100.000000</td>\n",
       "    </tr>\n",
       "    <tr>\n",
       "      <th>2</th>\n",
       "      <td>2017-01-05</td>\n",
       "      <td>15.094667</td>\n",
       "      <td>15.165333</td>\n",
       "      <td>14.796667</td>\n",
       "      <td>15.116667</td>\n",
       "      <td>15.116667</td>\n",
       "      <td>88675500</td>\n",
       "      <td>-0.21</td>\n",
       "      <td>-0.88</td>\n",
       "      <td>-0.79</td>\n",
       "      <td>0.002</td>\n",
       "      <td>15.132667</td>\n",
       "      <td>-0.001057</td>\n",
       "      <td>15.124667</td>\n",
       "      <td>15.124667</td>\n",
       "      <td>15.130205</td>\n",
       "      <td>15.131481</td>\n",
       "      <td>-0.001276</td>\n",
       "      <td>0.000000</td>\n",
       "    </tr>\n",
       "    <tr>\n",
       "      <th>3</th>\n",
       "      <td>2017-01-06</td>\n",
       "      <td>15.128667</td>\n",
       "      <td>15.354000</td>\n",
       "      <td>15.030000</td>\n",
       "      <td>15.267333</td>\n",
       "      <td>15.267333</td>\n",
       "      <td>82918500</td>\n",
       "      <td>0.29</td>\n",
       "      <td>-0.66</td>\n",
       "      <td>-0.31</td>\n",
       "      <td>0.002</td>\n",
       "      <td>15.116667</td>\n",
       "      <td>0.009967</td>\n",
       "      <td>15.172222</td>\n",
       "      <td>15.172222</td>\n",
       "      <td>15.151302</td>\n",
       "      <td>15.141545</td>\n",
       "      <td>0.009757</td>\n",
       "      <td>91.024248</td>\n",
       "    </tr>\n",
       "    <tr>\n",
       "      <th>4</th>\n",
       "      <td>2017-01-09</td>\n",
       "      <td>15.264667</td>\n",
       "      <td>15.461333</td>\n",
       "      <td>15.200000</td>\n",
       "      <td>15.418667</td>\n",
       "      <td>15.418667</td>\n",
       "      <td>59692500</td>\n",
       "      <td>-0.37</td>\n",
       "      <td>-0.29</td>\n",
       "      <td>-1.04</td>\n",
       "      <td>0.002</td>\n",
       "      <td>15.267333</td>\n",
       "      <td>0.009912</td>\n",
       "      <td>15.233833</td>\n",
       "      <td>15.233833</td>\n",
       "      <td>15.192435</td>\n",
       "      <td>15.162072</td>\n",
       "      <td>0.030363</td>\n",
       "      <td>95.477309</td>\n",
       "    </tr>\n",
       "    <tr>\n",
       "      <th>5</th>\n",
       "      <td>2017-01-10</td>\n",
       "      <td>15.466667</td>\n",
       "      <td>15.466667</td>\n",
       "      <td>15.126000</td>\n",
       "      <td>15.324667</td>\n",
       "      <td>15.324667</td>\n",
       "      <td>54900000</td>\n",
       "      <td>0.16</td>\n",
       "      <td>0.88</td>\n",
       "      <td>0.44</td>\n",
       "      <td>0.002</td>\n",
       "      <td>15.418667</td>\n",
       "      <td>-0.006096</td>\n",
       "      <td>15.252000</td>\n",
       "      <td>15.252000</td>\n",
       "      <td>15.212778</td>\n",
       "      <td>15.174116</td>\n",
       "      <td>0.038662</td>\n",
       "      <td>71.686831</td>\n",
       "    </tr>\n",
       "  </tbody>\n",
       "</table>\n",
       "</div>"
      ],
      "text/plain": [
       "        Date       Open       High        Low      Close  Adj Close  \\\n",
       "1 2017-01-04  14.316667  15.200000  14.287333  15.132667  15.132667   \n",
       "2 2017-01-05  15.094667  15.165333  14.796667  15.116667  15.116667   \n",
       "3 2017-01-06  15.128667  15.354000  15.030000  15.267333  15.267333   \n",
       "4 2017-01-09  15.264667  15.461333  15.200000  15.418667  15.418667   \n",
       "5 2017-01-10  15.466667  15.466667  15.126000  15.324667  15.324667   \n",
       "\n",
       "      Volume  Mkt-RF   SMB   HML     RF  Yest_Close  stock_return     SMA_20  \\\n",
       "1  168202500    0.79  0.95 -0.16  0.002   14.466000      0.046085  15.132667   \n",
       "2   88675500   -0.21 -0.88 -0.79  0.002   15.132667     -0.001057  15.124667   \n",
       "3   82918500    0.29 -0.66 -0.31  0.002   15.116667      0.009967  15.172222   \n",
       "4   59692500   -0.37 -0.29 -1.04  0.002   15.267333      0.009912  15.233833   \n",
       "5   54900000    0.16  0.88  0.44  0.002   15.418667     -0.006096  15.252000   \n",
       "\n",
       "      SMA_50     EMA_12     EMA_26      MACD         RSI  \n",
       "1  15.132667  15.132667  15.132667  0.000000  100.000000  \n",
       "2  15.124667  15.130205  15.131481 -0.001276    0.000000  \n",
       "3  15.172222  15.151302  15.141545  0.009757   91.024248  \n",
       "4  15.233833  15.192435  15.162072  0.030363   95.477309  \n",
       "5  15.252000  15.212778  15.174116  0.038662   71.686831  "
      ]
     },
     "execution_count": 17,
     "metadata": {},
     "output_type": "execute_result"
    }
   ],
   "source": [
    "TSLA_Final.head()"
   ]
  },
  {
   "cell_type": "markdown",
   "metadata": {
    "id": "ZJ5hODP_KQPK"
   },
   "source": [
    "### Importing ADS Index"
   ]
  },
  {
   "cell_type": "code",
   "execution_count": 19,
   "metadata": {
    "id": "DZ6-8nVr3cYj"
   },
   "outputs": [],
   "source": [
    "ads_df = pd.read_excel('ADS_Index_Most_Current_Vintage.xlsx')"
   ]
  },
  {
   "cell_type": "code",
   "execution_count": 20,
   "metadata": {
    "colab": {
     "base_uri": "https://localhost:8080/",
     "height": 206
    },
    "id": "tBqcZWim34gN",
    "outputId": "213fbd5a-1eb4-4d66-b92c-2a3a8832866c"
   },
   "outputs": [
    {
     "data": {
      "text/html": [
       "<div>\n",
       "<style scoped>\n",
       "    .dataframe tbody tr th:only-of-type {\n",
       "        vertical-align: middle;\n",
       "    }\n",
       "\n",
       "    .dataframe tbody tr th {\n",
       "        vertical-align: top;\n",
       "    }\n",
       "\n",
       "    .dataframe thead th {\n",
       "        text-align: right;\n",
       "    }\n",
       "</style>\n",
       "<table border=\"1\" class=\"dataframe\">\n",
       "  <thead>\n",
       "    <tr style=\"text-align: right;\">\n",
       "      <th></th>\n",
       "      <th>Unnamed: 0</th>\n",
       "      <th>ADS_Index</th>\n",
       "    </tr>\n",
       "  </thead>\n",
       "  <tbody>\n",
       "    <tr>\n",
       "      <th>23114</th>\n",
       "      <td>2023-06-13</td>\n",
       "      <td>-0.134883</td>\n",
       "    </tr>\n",
       "    <tr>\n",
       "      <th>23115</th>\n",
       "      <td>2023-06-14</td>\n",
       "      <td>-0.132031</td>\n",
       "    </tr>\n",
       "    <tr>\n",
       "      <th>23116</th>\n",
       "      <td>2023-06-15</td>\n",
       "      <td>-0.129347</td>\n",
       "    </tr>\n",
       "    <tr>\n",
       "      <th>23117</th>\n",
       "      <td>2023-06-16</td>\n",
       "      <td>-0.126831</td>\n",
       "    </tr>\n",
       "    <tr>\n",
       "      <th>23118</th>\n",
       "      <td>2023-06-17</td>\n",
       "      <td>-0.124481</td>\n",
       "    </tr>\n",
       "  </tbody>\n",
       "</table>\n",
       "</div>"
      ],
      "text/plain": [
       "      Unnamed: 0  ADS_Index\n",
       "23114 2023-06-13  -0.134883\n",
       "23115 2023-06-14  -0.132031\n",
       "23116 2023-06-15  -0.129347\n",
       "23117 2023-06-16  -0.126831\n",
       "23118 2023-06-17  -0.124481"
      ]
     },
     "execution_count": 20,
     "metadata": {},
     "output_type": "execute_result"
    }
   ],
   "source": [
    "ads_df.tail()"
   ]
  },
  {
   "cell_type": "code",
   "execution_count": 21,
   "metadata": {
    "id": "jyZ50maQ5gsE"
   },
   "outputs": [],
   "source": [
    "ads_df.rename(columns = {'Unnamed: 0':'Date'},inplace=True)\n",
    "ads_df['Date'] = pd.to_datetime(ads_df['Date'])"
   ]
  },
  {
   "cell_type": "code",
   "execution_count": 22,
   "metadata": {
    "id": "190n4pA-4yT9"
   },
   "outputs": [],
   "source": [
    "TSLA_Final = TSLA_Final.merge(ads_df, how='left', on='Date')"
   ]
  },
  {
   "cell_type": "code",
   "execution_count": 23,
   "metadata": {},
   "outputs": [],
   "source": [
    "TSLA_Final.to_csv('TSLA_Final.csv', index=False)"
   ]
  },
  {
   "cell_type": "code",
   "execution_count": 24,
   "metadata": {
    "colab": {
     "base_uri": "https://localhost:8080/",
     "height": 679
    },
    "id": "-luGfyTL5ls4",
    "outputId": "9902b670-4292-419e-9cec-4830f929a856"
   },
   "outputs": [
    {
     "data": {
      "text/html": [
       "<div>\n",
       "<style scoped>\n",
       "    .dataframe tbody tr th:only-of-type {\n",
       "        vertical-align: middle;\n",
       "    }\n",
       "\n",
       "    .dataframe tbody tr th {\n",
       "        vertical-align: top;\n",
       "    }\n",
       "\n",
       "    .dataframe thead th {\n",
       "        text-align: right;\n",
       "    }\n",
       "</style>\n",
       "<table border=\"1\" class=\"dataframe\">\n",
       "  <thead>\n",
       "    <tr style=\"text-align: right;\">\n",
       "      <th></th>\n",
       "      <th>Date</th>\n",
       "      <th>Open</th>\n",
       "      <th>High</th>\n",
       "      <th>Low</th>\n",
       "      <th>Close</th>\n",
       "      <th>Adj Close</th>\n",
       "      <th>Volume</th>\n",
       "      <th>Mkt-RF</th>\n",
       "      <th>SMB</th>\n",
       "      <th>HML</th>\n",
       "      <th>RF</th>\n",
       "      <th>Yest_Close</th>\n",
       "      <th>stock_return</th>\n",
       "      <th>SMA_20</th>\n",
       "      <th>SMA_50</th>\n",
       "      <th>EMA_12</th>\n",
       "      <th>EMA_26</th>\n",
       "      <th>MACD</th>\n",
       "      <th>RSI</th>\n",
       "      <th>ADS_Index</th>\n",
       "    </tr>\n",
       "  </thead>\n",
       "  <tbody>\n",
       "    <tr>\n",
       "      <th>0</th>\n",
       "      <td>2017-01-04</td>\n",
       "      <td>14.316667</td>\n",
       "      <td>15.200000</td>\n",
       "      <td>14.287333</td>\n",
       "      <td>15.132667</td>\n",
       "      <td>15.132667</td>\n",
       "      <td>168202500</td>\n",
       "      <td>0.79</td>\n",
       "      <td>0.95</td>\n",
       "      <td>-0.16</td>\n",
       "      <td>0.002</td>\n",
       "      <td>14.466000</td>\n",
       "      <td>0.046085</td>\n",
       "      <td>15.132667</td>\n",
       "      <td>15.132667</td>\n",
       "      <td>15.132667</td>\n",
       "      <td>15.132667</td>\n",
       "      <td>0.000000</td>\n",
       "      <td>100.000000</td>\n",
       "      <td>0.147667</td>\n",
       "    </tr>\n",
       "    <tr>\n",
       "      <th>1</th>\n",
       "      <td>2017-01-05</td>\n",
       "      <td>15.094667</td>\n",
       "      <td>15.165333</td>\n",
       "      <td>14.796667</td>\n",
       "      <td>15.116667</td>\n",
       "      <td>15.116667</td>\n",
       "      <td>88675500</td>\n",
       "      <td>-0.21</td>\n",
       "      <td>-0.88</td>\n",
       "      <td>-0.79</td>\n",
       "      <td>0.002</td>\n",
       "      <td>15.132667</td>\n",
       "      <td>-0.001057</td>\n",
       "      <td>15.124667</td>\n",
       "      <td>15.124667</td>\n",
       "      <td>15.130205</td>\n",
       "      <td>15.131481</td>\n",
       "      <td>-0.001276</td>\n",
       "      <td>0.000000</td>\n",
       "      <td>0.127719</td>\n",
       "    </tr>\n",
       "    <tr>\n",
       "      <th>2</th>\n",
       "      <td>2017-01-06</td>\n",
       "      <td>15.128667</td>\n",
       "      <td>15.354000</td>\n",
       "      <td>15.030000</td>\n",
       "      <td>15.267333</td>\n",
       "      <td>15.267333</td>\n",
       "      <td>82918500</td>\n",
       "      <td>0.29</td>\n",
       "      <td>-0.66</td>\n",
       "      <td>-0.31</td>\n",
       "      <td>0.002</td>\n",
       "      <td>15.116667</td>\n",
       "      <td>0.009967</td>\n",
       "      <td>15.172222</td>\n",
       "      <td>15.172222</td>\n",
       "      <td>15.151302</td>\n",
       "      <td>15.141545</td>\n",
       "      <td>0.009757</td>\n",
       "      <td>91.024248</td>\n",
       "      <td>0.108194</td>\n",
       "    </tr>\n",
       "    <tr>\n",
       "      <th>3</th>\n",
       "      <td>2017-01-09</td>\n",
       "      <td>15.264667</td>\n",
       "      <td>15.461333</td>\n",
       "      <td>15.200000</td>\n",
       "      <td>15.418667</td>\n",
       "      <td>15.418667</td>\n",
       "      <td>59692500</td>\n",
       "      <td>-0.37</td>\n",
       "      <td>-0.29</td>\n",
       "      <td>-1.04</td>\n",
       "      <td>0.002</td>\n",
       "      <td>15.267333</td>\n",
       "      <td>0.009912</td>\n",
       "      <td>15.233833</td>\n",
       "      <td>15.233833</td>\n",
       "      <td>15.192435</td>\n",
       "      <td>15.162072</td>\n",
       "      <td>0.030363</td>\n",
       "      <td>95.477309</td>\n",
       "      <td>0.051808</td>\n",
       "    </tr>\n",
       "    <tr>\n",
       "      <th>4</th>\n",
       "      <td>2017-01-10</td>\n",
       "      <td>15.466667</td>\n",
       "      <td>15.466667</td>\n",
       "      <td>15.126000</td>\n",
       "      <td>15.324667</td>\n",
       "      <td>15.324667</td>\n",
       "      <td>54900000</td>\n",
       "      <td>0.16</td>\n",
       "      <td>0.88</td>\n",
       "      <td>0.44</td>\n",
       "      <td>0.002</td>\n",
       "      <td>15.418667</td>\n",
       "      <td>-0.006096</td>\n",
       "      <td>15.252000</td>\n",
       "      <td>15.252000</td>\n",
       "      <td>15.212778</td>\n",
       "      <td>15.174116</td>\n",
       "      <td>0.038662</td>\n",
       "      <td>71.686831</td>\n",
       "      <td>0.033339</td>\n",
       "    </tr>\n",
       "    <tr>\n",
       "      <th>...</th>\n",
       "      <td>...</td>\n",
       "      <td>...</td>\n",
       "      <td>...</td>\n",
       "      <td>...</td>\n",
       "      <td>...</td>\n",
       "      <td>...</td>\n",
       "      <td>...</td>\n",
       "      <td>...</td>\n",
       "      <td>...</td>\n",
       "      <td>...</td>\n",
       "      <td>...</td>\n",
       "      <td>...</td>\n",
       "      <td>...</td>\n",
       "      <td>...</td>\n",
       "      <td>...</td>\n",
       "      <td>...</td>\n",
       "      <td>...</td>\n",
       "      <td>...</td>\n",
       "      <td>...</td>\n",
       "      <td>...</td>\n",
       "    </tr>\n",
       "    <tr>\n",
       "      <th>1584</th>\n",
       "      <td>2023-04-21</td>\n",
       "      <td>164.800003</td>\n",
       "      <td>166.000000</td>\n",
       "      <td>161.320007</td>\n",
       "      <td>165.080002</td>\n",
       "      <td>165.080002</td>\n",
       "      <td>123539000</td>\n",
       "      <td>0.07</td>\n",
       "      <td>0.26</td>\n",
       "      <td>-0.92</td>\n",
       "      <td>0.018</td>\n",
       "      <td>162.990005</td>\n",
       "      <td>0.012823</td>\n",
       "      <td>186.435500</td>\n",
       "      <td>190.798200</td>\n",
       "      <td>179.692929</td>\n",
       "      <td>183.898405</td>\n",
       "      <td>-4.205476</td>\n",
       "      <td>35.309424</td>\n",
       "      <td>0.156027</td>\n",
       "    </tr>\n",
       "    <tr>\n",
       "      <th>1585</th>\n",
       "      <td>2023-04-24</td>\n",
       "      <td>164.649994</td>\n",
       "      <td>165.649994</td>\n",
       "      <td>158.610001</td>\n",
       "      <td>162.550003</td>\n",
       "      <td>162.550003</td>\n",
       "      <td>140006600</td>\n",
       "      <td>0.00</td>\n",
       "      <td>-0.40</td>\n",
       "      <td>0.47</td>\n",
       "      <td>0.018</td>\n",
       "      <td>165.080002</td>\n",
       "      <td>-0.015326</td>\n",
       "      <td>185.042500</td>\n",
       "      <td>189.902800</td>\n",
       "      <td>177.055556</td>\n",
       "      <td>182.317042</td>\n",
       "      <td>-5.261486</td>\n",
       "      <td>33.974557</td>\n",
       "      <td>0.142498</td>\n",
       "    </tr>\n",
       "    <tr>\n",
       "      <th>1586</th>\n",
       "      <td>2023-04-25</td>\n",
       "      <td>159.820007</td>\n",
       "      <td>163.470001</td>\n",
       "      <td>158.750000</td>\n",
       "      <td>160.669998</td>\n",
       "      <td>160.669998</td>\n",
       "      <td>121999300</td>\n",
       "      <td>-1.76</td>\n",
       "      <td>-0.99</td>\n",
       "      <td>0.10</td>\n",
       "      <td>0.018</td>\n",
       "      <td>162.550003</td>\n",
       "      <td>-0.011566</td>\n",
       "      <td>183.485500</td>\n",
       "      <td>189.178400</td>\n",
       "      <td>174.534701</td>\n",
       "      <td>180.713557</td>\n",
       "      <td>-6.178856</td>\n",
       "      <td>32.976902</td>\n",
       "      <td>0.136458</td>\n",
       "    </tr>\n",
       "    <tr>\n",
       "      <th>1587</th>\n",
       "      <td>2023-04-26</td>\n",
       "      <td>160.289993</td>\n",
       "      <td>160.669998</td>\n",
       "      <td>153.139999</td>\n",
       "      <td>153.750000</td>\n",
       "      <td>153.750000</td>\n",
       "      <td>153364100</td>\n",
       "      <td>-0.41</td>\n",
       "      <td>0.15</td>\n",
       "      <td>-0.75</td>\n",
       "      <td>0.018</td>\n",
       "      <td>160.669998</td>\n",
       "      <td>-0.043070</td>\n",
       "      <td>181.713499</td>\n",
       "      <td>188.360600</td>\n",
       "      <td>171.337055</td>\n",
       "      <td>178.716257</td>\n",
       "      <td>-7.379202</td>\n",
       "      <td>29.538571</td>\n",
       "      <td>0.129873</td>\n",
       "    </tr>\n",
       "    <tr>\n",
       "      <th>1588</th>\n",
       "      <td>2023-04-27</td>\n",
       "      <td>152.639999</td>\n",
       "      <td>160.479996</td>\n",
       "      <td>152.369995</td>\n",
       "      <td>160.190002</td>\n",
       "      <td>160.190002</td>\n",
       "      <td>127015200</td>\n",
       "      <td>1.85</td>\n",
       "      <td>-0.56</td>\n",
       "      <td>0.00</td>\n",
       "      <td>0.018</td>\n",
       "      <td>153.750000</td>\n",
       "      <td>0.041886</td>\n",
       "      <td>180.028999</td>\n",
       "      <td>187.379400</td>\n",
       "      <td>169.622124</td>\n",
       "      <td>177.343942</td>\n",
       "      <td>-7.721818</td>\n",
       "      <td>36.204944</td>\n",
       "      <td>0.122739</td>\n",
       "    </tr>\n",
       "  </tbody>\n",
       "</table>\n",
       "<p>1589 rows × 20 columns</p>\n",
       "</div>"
      ],
      "text/plain": [
       "           Date        Open        High         Low       Close   Adj Close  \\\n",
       "0    2017-01-04   14.316667   15.200000   14.287333   15.132667   15.132667   \n",
       "1    2017-01-05   15.094667   15.165333   14.796667   15.116667   15.116667   \n",
       "2    2017-01-06   15.128667   15.354000   15.030000   15.267333   15.267333   \n",
       "3    2017-01-09   15.264667   15.461333   15.200000   15.418667   15.418667   \n",
       "4    2017-01-10   15.466667   15.466667   15.126000   15.324667   15.324667   \n",
       "...         ...         ...         ...         ...         ...         ...   \n",
       "1584 2023-04-21  164.800003  166.000000  161.320007  165.080002  165.080002   \n",
       "1585 2023-04-24  164.649994  165.649994  158.610001  162.550003  162.550003   \n",
       "1586 2023-04-25  159.820007  163.470001  158.750000  160.669998  160.669998   \n",
       "1587 2023-04-26  160.289993  160.669998  153.139999  153.750000  153.750000   \n",
       "1588 2023-04-27  152.639999  160.479996  152.369995  160.190002  160.190002   \n",
       "\n",
       "         Volume  Mkt-RF   SMB   HML     RF  Yest_Close  stock_return  \\\n",
       "0     168202500    0.79  0.95 -0.16  0.002   14.466000      0.046085   \n",
       "1      88675500   -0.21 -0.88 -0.79  0.002   15.132667     -0.001057   \n",
       "2      82918500    0.29 -0.66 -0.31  0.002   15.116667      0.009967   \n",
       "3      59692500   -0.37 -0.29 -1.04  0.002   15.267333      0.009912   \n",
       "4      54900000    0.16  0.88  0.44  0.002   15.418667     -0.006096   \n",
       "...         ...     ...   ...   ...    ...         ...           ...   \n",
       "1584  123539000    0.07  0.26 -0.92  0.018  162.990005      0.012823   \n",
       "1585  140006600    0.00 -0.40  0.47  0.018  165.080002     -0.015326   \n",
       "1586  121999300   -1.76 -0.99  0.10  0.018  162.550003     -0.011566   \n",
       "1587  153364100   -0.41  0.15 -0.75  0.018  160.669998     -0.043070   \n",
       "1588  127015200    1.85 -0.56  0.00  0.018  153.750000      0.041886   \n",
       "\n",
       "          SMA_20      SMA_50      EMA_12      EMA_26      MACD         RSI  \\\n",
       "0      15.132667   15.132667   15.132667   15.132667  0.000000  100.000000   \n",
       "1      15.124667   15.124667   15.130205   15.131481 -0.001276    0.000000   \n",
       "2      15.172222   15.172222   15.151302   15.141545  0.009757   91.024248   \n",
       "3      15.233833   15.233833   15.192435   15.162072  0.030363   95.477309   \n",
       "4      15.252000   15.252000   15.212778   15.174116  0.038662   71.686831   \n",
       "...          ...         ...         ...         ...       ...         ...   \n",
       "1584  186.435500  190.798200  179.692929  183.898405 -4.205476   35.309424   \n",
       "1585  185.042500  189.902800  177.055556  182.317042 -5.261486   33.974557   \n",
       "1586  183.485500  189.178400  174.534701  180.713557 -6.178856   32.976902   \n",
       "1587  181.713499  188.360600  171.337055  178.716257 -7.379202   29.538571   \n",
       "1588  180.028999  187.379400  169.622124  177.343942 -7.721818   36.204944   \n",
       "\n",
       "      ADS_Index  \n",
       "0      0.147667  \n",
       "1      0.127719  \n",
       "2      0.108194  \n",
       "3      0.051808  \n",
       "4      0.033339  \n",
       "...         ...  \n",
       "1584   0.156027  \n",
       "1585   0.142498  \n",
       "1586   0.136458  \n",
       "1587   0.129873  \n",
       "1588   0.122739  \n",
       "\n",
       "[1589 rows x 20 columns]"
      ]
     },
     "execution_count": 24,
     "metadata": {},
     "output_type": "execute_result"
    }
   ],
   "source": [
    "TSLA_Final"
   ]
  },
  {
   "cell_type": "markdown",
   "metadata": {
    "id": "GV9mRu_YKRqh"
   },
   "source": [
    "### Adding Competitor Stock Data for Analysis"
   ]
  },
  {
   "cell_type": "markdown",
   "metadata": {
    "id": "3kKQZfTbsh3d"
   },
   "source": [
    "* Nio Inc. (NIO)\n",
    "* Li Auto Inc. (LI)\n",
    "* Rivian Automotive Inc. (RIVN)\n",
    "* General Motors Co. (GM)\n",
    "* Toyota Motor Corp. (TM)\n",
    "* Ford Motor Co. (F)\n",
    "* RACE NV (RACE)"
   ]
  },
  {
   "cell_type": "code",
   "execution_count": 25,
   "metadata": {
    "colab": {
     "base_uri": "https://localhost:8080/"
    },
    "id": "GVVqcGK6zM4I",
    "outputId": "49f650cf-cc52-4b85-805b-71b415b8dc0b"
   },
   "outputs": [
    {
     "name": "stdout",
     "output_type": "stream",
     "text": [
      "[*********************100%%**********************]  1 of 1 completed\n",
      "[*********************100%%**********************]  1 of 1 completed\n",
      "[*********************100%%**********************]  1 of 1 completed\n",
      "[*********************100%%**********************]  1 of 1 completed\n",
      "[*********************100%%**********************]  1 of 1 completed\n"
     ]
    }
   ],
   "source": [
    "NIO = yf.download('NIO',start_date ,end_date)\n",
    "NIO.reset_index(inplace=True)\n",
    "\n",
    "# LI = yf.download('LI',start_date ,end_date)\n",
    "# LI.reset_index(inplace=True)\n",
    "\n",
    "# RIVN = yf.download('RIVN',start_date ,end_date)\n",
    "# RIVN.reset_index(inplace=True)\n",
    "\n",
    "GM = yf.download('GM',start_date ,end_date)\n",
    "GM.reset_index(inplace=True)\n",
    "\n",
    "TM = yf.download('TM',start_date ,end_date)\n",
    "TM.reset_index(inplace=True)\n",
    "\n",
    "F = yf.download('F',start_date ,end_date)\n",
    "F.reset_index(inplace=True)\n",
    "\n",
    "RACE = yf.download('RACE',start_date ,end_date)\n",
    "RACE.reset_index(inplace=True)"
   ]
  },
  {
   "cell_type": "code",
   "execution_count": 27,
   "metadata": {
    "id": "279K1_Eb0GwW"
   },
   "outputs": [],
   "source": [
    "NIO['NIO Yest_Close'] = NIO['Adj Close'].shift(periods=1)\n",
    "# LI['LI Yest_Close'] = LI['Adj Close'].shift(periods=1)\n",
    "# RIVN['RIVN Yest_Close'] = RIVN['Adj Close'].shift(periods=1)\n",
    "GM['GM Yest_Close'] = GM['Adj Close'].shift(periods=1)\n",
    "TM['TM Yest_Close'] = TM['Adj Close'].shift(periods=1)\n",
    "F['F Yest_Close'] = F['Adj Close'].shift(periods=1)\n",
    "RACE['RACE Yest_Close'] = RACE['Adj Close'].shift(periods=1)"
   ]
  },
  {
   "cell_type": "code",
   "execution_count": 28,
   "metadata": {
    "id": "XDkioJed1hzX"
   },
   "outputs": [],
   "source": [
    "TSLA_Final = TSLA_Final.merge(NIO[['Date', 'NIO Yest_Close']], how='left', on='Date')\n",
    "# TSLA_Final = TSLA_Final.merge(LI_Final, how='left', on='Date')\n",
    "# TSLA_Final = TSLA_Final.merge(RIVN_Final, how='left', on='Date')\n",
    "TSLA_Final = TSLA_Final.merge(GM[['Date', 'GM Yest_Close']], how='left', on='Date')\n",
    "TSLA_Final = TSLA_Final.merge(TM[['Date', 'TM Yest_Close']], how='left', on='Date')\n",
    "TSLA_Final = TSLA_Final.merge(F[['Date', 'F Yest_Close']], how='left', on='Date')\n",
    "TSLA_Final = TSLA_Final.merge(RACE[['Date', 'RACE Yest_Close']], how='left', on='Date')"
   ]
  },
  {
   "cell_type": "code",
   "execution_count": 29,
   "metadata": {
    "colab": {
     "base_uri": "https://localhost:8080/",
     "height": 679
    },
    "id": "CqFBRRYI2icJ",
    "outputId": "49fab1af-a1f4-4793-b63e-34975d6ace21"
   },
   "outputs": [
    {
     "data": {
      "text/html": [
       "<div>\n",
       "<style scoped>\n",
       "    .dataframe tbody tr th:only-of-type {\n",
       "        vertical-align: middle;\n",
       "    }\n",
       "\n",
       "    .dataframe tbody tr th {\n",
       "        vertical-align: top;\n",
       "    }\n",
       "\n",
       "    .dataframe thead th {\n",
       "        text-align: right;\n",
       "    }\n",
       "</style>\n",
       "<table border=\"1\" class=\"dataframe\">\n",
       "  <thead>\n",
       "    <tr style=\"text-align: right;\">\n",
       "      <th></th>\n",
       "      <th>Date</th>\n",
       "      <th>Open</th>\n",
       "      <th>High</th>\n",
       "      <th>Low</th>\n",
       "      <th>Close</th>\n",
       "      <th>Adj Close</th>\n",
       "      <th>Volume</th>\n",
       "      <th>Mkt-RF</th>\n",
       "      <th>SMB</th>\n",
       "      <th>HML</th>\n",
       "      <th>...</th>\n",
       "      <th>EMA_12</th>\n",
       "      <th>EMA_26</th>\n",
       "      <th>MACD</th>\n",
       "      <th>RSI</th>\n",
       "      <th>ADS_Index</th>\n",
       "      <th>NIO Yest_Close</th>\n",
       "      <th>GM Yest_Close</th>\n",
       "      <th>TM Yest_Close</th>\n",
       "      <th>F Yest_Close</th>\n",
       "      <th>RACE Yest_Close</th>\n",
       "    </tr>\n",
       "  </thead>\n",
       "  <tbody>\n",
       "    <tr>\n",
       "      <th>0</th>\n",
       "      <td>2017-01-04</td>\n",
       "      <td>14.316667</td>\n",
       "      <td>15.200000</td>\n",
       "      <td>14.287333</td>\n",
       "      <td>15.132667</td>\n",
       "      <td>15.132667</td>\n",
       "      <td>168202500</td>\n",
       "      <td>0.79</td>\n",
       "      <td>0.95</td>\n",
       "      <td>-0.16</td>\n",
       "      <td>...</td>\n",
       "      <td>15.132667</td>\n",
       "      <td>15.132667</td>\n",
       "      <td>0.000000</td>\n",
       "      <td>100.000000</td>\n",
       "      <td>0.147667</td>\n",
       "      <td>NaN</td>\n",
       "      <td>30.451347</td>\n",
       "      <td>118.550003</td>\n",
       "      <td>9.082819</td>\n",
       "      <td>55.978443</td>\n",
       "    </tr>\n",
       "    <tr>\n",
       "      <th>1</th>\n",
       "      <td>2017-01-05</td>\n",
       "      <td>15.094667</td>\n",
       "      <td>15.165333</td>\n",
       "      <td>14.796667</td>\n",
       "      <td>15.116667</td>\n",
       "      <td>15.116667</td>\n",
       "      <td>88675500</td>\n",
       "      <td>-0.21</td>\n",
       "      <td>-0.88</td>\n",
       "      <td>-0.79</td>\n",
       "      <td>...</td>\n",
       "      <td>15.130205</td>\n",
       "      <td>15.131481</td>\n",
       "      <td>-0.001276</td>\n",
       "      <td>0.000000</td>\n",
       "      <td>0.127719</td>\n",
       "      <td>NaN</td>\n",
       "      <td>32.132019</td>\n",
       "      <td>121.190002</td>\n",
       "      <td>9.501247</td>\n",
       "      <td>56.424828</td>\n",
       "    </tr>\n",
       "    <tr>\n",
       "      <th>2</th>\n",
       "      <td>2017-01-06</td>\n",
       "      <td>15.128667</td>\n",
       "      <td>15.354000</td>\n",
       "      <td>15.030000</td>\n",
       "      <td>15.267333</td>\n",
       "      <td>15.267333</td>\n",
       "      <td>82918500</td>\n",
       "      <td>0.29</td>\n",
       "      <td>-0.66</td>\n",
       "      <td>-0.31</td>\n",
       "      <td>...</td>\n",
       "      <td>15.151302</td>\n",
       "      <td>15.141545</td>\n",
       "      <td>0.009757</td>\n",
       "      <td>91.024248</td>\n",
       "      <td>0.108194</td>\n",
       "      <td>NaN</td>\n",
       "      <td>31.525587</td>\n",
       "      <td>120.440002</td>\n",
       "      <td>9.212676</td>\n",
       "      <td>56.377338</td>\n",
       "    </tr>\n",
       "    <tr>\n",
       "      <th>3</th>\n",
       "      <td>2017-01-09</td>\n",
       "      <td>15.264667</td>\n",
       "      <td>15.461333</td>\n",
       "      <td>15.200000</td>\n",
       "      <td>15.418667</td>\n",
       "      <td>15.418667</td>\n",
       "      <td>59692500</td>\n",
       "      <td>-0.37</td>\n",
       "      <td>-0.29</td>\n",
       "      <td>-1.04</td>\n",
       "      <td>...</td>\n",
       "      <td>15.192435</td>\n",
       "      <td>15.162072</td>\n",
       "      <td>0.030363</td>\n",
       "      <td>95.477309</td>\n",
       "      <td>0.051808</td>\n",
       "      <td>NaN</td>\n",
       "      <td>31.179066</td>\n",
       "      <td>120.129997</td>\n",
       "      <td>9.205462</td>\n",
       "      <td>55.978443</td>\n",
       "    </tr>\n",
       "    <tr>\n",
       "      <th>4</th>\n",
       "      <td>2017-01-10</td>\n",
       "      <td>15.466667</td>\n",
       "      <td>15.466667</td>\n",
       "      <td>15.126000</td>\n",
       "      <td>15.324667</td>\n",
       "      <td>15.324667</td>\n",
       "      <td>54900000</td>\n",
       "      <td>0.16</td>\n",
       "      <td>0.88</td>\n",
       "      <td>0.44</td>\n",
       "      <td>...</td>\n",
       "      <td>15.212778</td>\n",
       "      <td>15.174116</td>\n",
       "      <td>0.038662</td>\n",
       "      <td>71.686831</td>\n",
       "      <td>0.033339</td>\n",
       "      <td>NaN</td>\n",
       "      <td>31.196383</td>\n",
       "      <td>119.739998</td>\n",
       "      <td>9.111676</td>\n",
       "      <td>55.351612</td>\n",
       "    </tr>\n",
       "    <tr>\n",
       "      <th>...</th>\n",
       "      <td>...</td>\n",
       "      <td>...</td>\n",
       "      <td>...</td>\n",
       "      <td>...</td>\n",
       "      <td>...</td>\n",
       "      <td>...</td>\n",
       "      <td>...</td>\n",
       "      <td>...</td>\n",
       "      <td>...</td>\n",
       "      <td>...</td>\n",
       "      <td>...</td>\n",
       "      <td>...</td>\n",
       "      <td>...</td>\n",
       "      <td>...</td>\n",
       "      <td>...</td>\n",
       "      <td>...</td>\n",
       "      <td>...</td>\n",
       "      <td>...</td>\n",
       "      <td>...</td>\n",
       "      <td>...</td>\n",
       "      <td>...</td>\n",
       "    </tr>\n",
       "    <tr>\n",
       "      <th>1584</th>\n",
       "      <td>2023-04-21</td>\n",
       "      <td>164.800003</td>\n",
       "      <td>166.000000</td>\n",
       "      <td>161.320007</td>\n",
       "      <td>165.080002</td>\n",
       "      <td>165.080002</td>\n",
       "      <td>123539000</td>\n",
       "      <td>0.07</td>\n",
       "      <td>0.26</td>\n",
       "      <td>-0.92</td>\n",
       "      <td>...</td>\n",
       "      <td>179.692929</td>\n",
       "      <td>183.898405</td>\n",
       "      <td>-4.205476</td>\n",
       "      <td>35.309424</td>\n",
       "      <td>0.156027</td>\n",
       "      <td>8.28</td>\n",
       "      <td>33.446861</td>\n",
       "      <td>133.800003</td>\n",
       "      <td>11.597337</td>\n",
       "      <td>274.025513</td>\n",
       "    </tr>\n",
       "    <tr>\n",
       "      <th>1585</th>\n",
       "      <td>2023-04-24</td>\n",
       "      <td>164.649994</td>\n",
       "      <td>165.649994</td>\n",
       "      <td>158.610001</td>\n",
       "      <td>162.550003</td>\n",
       "      <td>162.550003</td>\n",
       "      <td>140006600</td>\n",
       "      <td>0.00</td>\n",
       "      <td>-0.40</td>\n",
       "      <td>0.47</td>\n",
       "      <td>...</td>\n",
       "      <td>177.055556</td>\n",
       "      <td>182.317042</td>\n",
       "      <td>-5.261486</td>\n",
       "      <td>33.974557</td>\n",
       "      <td>0.142498</td>\n",
       "      <td>8.33</td>\n",
       "      <td>33.456833</td>\n",
       "      <td>134.669998</td>\n",
       "      <td>11.538715</td>\n",
       "      <td>276.040985</td>\n",
       "    </tr>\n",
       "    <tr>\n",
       "      <th>1586</th>\n",
       "      <td>2023-04-25</td>\n",
       "      <td>159.820007</td>\n",
       "      <td>163.470001</td>\n",
       "      <td>158.750000</td>\n",
       "      <td>160.669998</td>\n",
       "      <td>160.669998</td>\n",
       "      <td>121999300</td>\n",
       "      <td>-1.76</td>\n",
       "      <td>-0.99</td>\n",
       "      <td>0.10</td>\n",
       "      <td>...</td>\n",
       "      <td>174.534701</td>\n",
       "      <td>180.713557</td>\n",
       "      <td>-6.178856</td>\n",
       "      <td>32.976902</td>\n",
       "      <td>0.136458</td>\n",
       "      <td>8.29</td>\n",
       "      <td>34.194778</td>\n",
       "      <td>134.839996</td>\n",
       "      <td>11.880674</td>\n",
       "      <td>280.190002</td>\n",
       "    </tr>\n",
       "    <tr>\n",
       "      <th>1587</th>\n",
       "      <td>2023-04-26</td>\n",
       "      <td>160.289993</td>\n",
       "      <td>160.669998</td>\n",
       "      <td>153.139999</td>\n",
       "      <td>153.750000</td>\n",
       "      <td>153.750000</td>\n",
       "      <td>153364100</td>\n",
       "      <td>-0.41</td>\n",
       "      <td>0.15</td>\n",
       "      <td>-0.75</td>\n",
       "      <td>...</td>\n",
       "      <td>171.337055</td>\n",
       "      <td>178.716257</td>\n",
       "      <td>-7.379202</td>\n",
       "      <td>29.538571</td>\n",
       "      <td>0.129873</td>\n",
       "      <td>7.90</td>\n",
       "      <td>32.818611</td>\n",
       "      <td>133.509995</td>\n",
       "      <td>11.643260</td>\n",
       "      <td>277.209991</td>\n",
       "    </tr>\n",
       "    <tr>\n",
       "      <th>1588</th>\n",
       "      <td>2023-04-27</td>\n",
       "      <td>152.639999</td>\n",
       "      <td>160.479996</td>\n",
       "      <td>152.369995</td>\n",
       "      <td>160.190002</td>\n",
       "      <td>160.190002</td>\n",
       "      <td>127015200</td>\n",
       "      <td>1.85</td>\n",
       "      <td>-0.56</td>\n",
       "      <td>0.00</td>\n",
       "      <td>...</td>\n",
       "      <td>169.622124</td>\n",
       "      <td>177.343942</td>\n",
       "      <td>-7.721818</td>\n",
       "      <td>36.204944</td>\n",
       "      <td>0.122739</td>\n",
       "      <td>7.68</td>\n",
       "      <td>32.130527</td>\n",
       "      <td>134.020004</td>\n",
       "      <td>11.415736</td>\n",
       "      <td>275.410004</td>\n",
       "    </tr>\n",
       "  </tbody>\n",
       "</table>\n",
       "<p>1589 rows × 25 columns</p>\n",
       "</div>"
      ],
      "text/plain": [
       "           Date        Open        High         Low       Close   Adj Close  \\\n",
       "0    2017-01-04   14.316667   15.200000   14.287333   15.132667   15.132667   \n",
       "1    2017-01-05   15.094667   15.165333   14.796667   15.116667   15.116667   \n",
       "2    2017-01-06   15.128667   15.354000   15.030000   15.267333   15.267333   \n",
       "3    2017-01-09   15.264667   15.461333   15.200000   15.418667   15.418667   \n",
       "4    2017-01-10   15.466667   15.466667   15.126000   15.324667   15.324667   \n",
       "...         ...         ...         ...         ...         ...         ...   \n",
       "1584 2023-04-21  164.800003  166.000000  161.320007  165.080002  165.080002   \n",
       "1585 2023-04-24  164.649994  165.649994  158.610001  162.550003  162.550003   \n",
       "1586 2023-04-25  159.820007  163.470001  158.750000  160.669998  160.669998   \n",
       "1587 2023-04-26  160.289993  160.669998  153.139999  153.750000  153.750000   \n",
       "1588 2023-04-27  152.639999  160.479996  152.369995  160.190002  160.190002   \n",
       "\n",
       "         Volume  Mkt-RF   SMB   HML  ...      EMA_12      EMA_26      MACD  \\\n",
       "0     168202500    0.79  0.95 -0.16  ...   15.132667   15.132667  0.000000   \n",
       "1      88675500   -0.21 -0.88 -0.79  ...   15.130205   15.131481 -0.001276   \n",
       "2      82918500    0.29 -0.66 -0.31  ...   15.151302   15.141545  0.009757   \n",
       "3      59692500   -0.37 -0.29 -1.04  ...   15.192435   15.162072  0.030363   \n",
       "4      54900000    0.16  0.88  0.44  ...   15.212778   15.174116  0.038662   \n",
       "...         ...     ...   ...   ...  ...         ...         ...       ...   \n",
       "1584  123539000    0.07  0.26 -0.92  ...  179.692929  183.898405 -4.205476   \n",
       "1585  140006600    0.00 -0.40  0.47  ...  177.055556  182.317042 -5.261486   \n",
       "1586  121999300   -1.76 -0.99  0.10  ...  174.534701  180.713557 -6.178856   \n",
       "1587  153364100   -0.41  0.15 -0.75  ...  171.337055  178.716257 -7.379202   \n",
       "1588  127015200    1.85 -0.56  0.00  ...  169.622124  177.343942 -7.721818   \n",
       "\n",
       "             RSI  ADS_Index  NIO Yest_Close  GM Yest_Close  TM Yest_Close  \\\n",
       "0     100.000000   0.147667             NaN      30.451347     118.550003   \n",
       "1       0.000000   0.127719             NaN      32.132019     121.190002   \n",
       "2      91.024248   0.108194             NaN      31.525587     120.440002   \n",
       "3      95.477309   0.051808             NaN      31.179066     120.129997   \n",
       "4      71.686831   0.033339             NaN      31.196383     119.739998   \n",
       "...          ...        ...             ...            ...            ...   \n",
       "1584   35.309424   0.156027            8.28      33.446861     133.800003   \n",
       "1585   33.974557   0.142498            8.33      33.456833     134.669998   \n",
       "1586   32.976902   0.136458            8.29      34.194778     134.839996   \n",
       "1587   29.538571   0.129873            7.90      32.818611     133.509995   \n",
       "1588   36.204944   0.122739            7.68      32.130527     134.020004   \n",
       "\n",
       "      F Yest_Close  RACE Yest_Close  \n",
       "0         9.082819        55.978443  \n",
       "1         9.501247        56.424828  \n",
       "2         9.212676        56.377338  \n",
       "3         9.205462        55.978443  \n",
       "4         9.111676        55.351612  \n",
       "...            ...              ...  \n",
       "1584     11.597337       274.025513  \n",
       "1585     11.538715       276.040985  \n",
       "1586     11.880674       280.190002  \n",
       "1587     11.643260       277.209991  \n",
       "1588     11.415736       275.410004  \n",
       "\n",
       "[1589 rows x 25 columns]"
      ]
     },
     "execution_count": 29,
     "metadata": {},
     "output_type": "execute_result"
    }
   ],
   "source": [
    "TSLA_Final"
   ]
  },
  {
   "cell_type": "code",
   "execution_count": 30,
   "metadata": {
    "id": "OCU27qnF2sGB"
   },
   "outputs": [],
   "source": [
    "TSLA_Final = TSLA_Final[TSLA_Final['NIO Yest_Close'].notna()]\n",
    "# TSLA_Final = TSLA_Final[TSLA_Final['LI Yest_Close'].notna()]\n",
    "# TSLA_Final = TSLA_Final[TSLA_Final['RIVN Yest_Close'].notna()]\n",
    "TSLA_Final = TSLA_Final[TSLA_Final['GM Yest_Close'].notna()]\n",
    "TSLA_Final = TSLA_Final[TSLA_Final['TM Yest_Close'].notna()]\n",
    "TSLA_Final = TSLA_Final[TSLA_Final['F Yest_Close'].notna()]\n",
    "TSLA_Final = TSLA_Final[TSLA_Final['RACE Yest_Close'].notna()]"
   ]
  },
  {
   "cell_type": "code",
   "execution_count": 31,
   "metadata": {
    "colab": {
     "base_uri": "https://localhost:8080/",
     "height": 679
    },
    "id": "DkDcOwXU23F8",
    "outputId": "ffc97c97-56b3-407f-f696-226fa2638510"
   },
   "outputs": [
    {
     "data": {
      "text/html": [
       "<div>\n",
       "<style scoped>\n",
       "    .dataframe tbody tr th:only-of-type {\n",
       "        vertical-align: middle;\n",
       "    }\n",
       "\n",
       "    .dataframe tbody tr th {\n",
       "        vertical-align: top;\n",
       "    }\n",
       "\n",
       "    .dataframe thead th {\n",
       "        text-align: right;\n",
       "    }\n",
       "</style>\n",
       "<table border=\"1\" class=\"dataframe\">\n",
       "  <thead>\n",
       "    <tr style=\"text-align: right;\">\n",
       "      <th></th>\n",
       "      <th>Date</th>\n",
       "      <th>Open</th>\n",
       "      <th>High</th>\n",
       "      <th>Low</th>\n",
       "      <th>Close</th>\n",
       "      <th>Adj Close</th>\n",
       "      <th>Volume</th>\n",
       "      <th>Mkt-RF</th>\n",
       "      <th>SMB</th>\n",
       "      <th>HML</th>\n",
       "      <th>...</th>\n",
       "      <th>EMA_12</th>\n",
       "      <th>EMA_26</th>\n",
       "      <th>MACD</th>\n",
       "      <th>RSI</th>\n",
       "      <th>ADS_Index</th>\n",
       "      <th>NIO Yest_Close</th>\n",
       "      <th>GM Yest_Close</th>\n",
       "      <th>TM Yest_Close</th>\n",
       "      <th>F Yest_Close</th>\n",
       "      <th>RACE Yest_Close</th>\n",
       "    </tr>\n",
       "  </thead>\n",
       "  <tbody>\n",
       "    <tr>\n",
       "      <th>426</th>\n",
       "      <td>2018-09-13</td>\n",
       "      <td>19.201332</td>\n",
       "      <td>19.666668</td>\n",
       "      <td>19.011999</td>\n",
       "      <td>19.297333</td>\n",
       "      <td>19.297333</td>\n",
       "      <td>95104500</td>\n",
       "      <td>0.45</td>\n",
       "      <td>-0.44</td>\n",
       "      <td>-0.40</td>\n",
       "      <td>...</td>\n",
       "      <td>19.456098</td>\n",
       "      <td>20.246712</td>\n",
       "      <td>-0.790613</td>\n",
       "      <td>43.193862</td>\n",
       "      <td>-0.158008</td>\n",
       "      <td>6.60</td>\n",
       "      <td>31.649935</td>\n",
       "      <td>119.910004</td>\n",
       "      <td>7.492328</td>\n",
       "      <td>128.253830</td>\n",
       "    </tr>\n",
       "    <tr>\n",
       "      <th>427</th>\n",
       "      <td>2018-09-14</td>\n",
       "      <td>19.250668</td>\n",
       "      <td>19.822001</td>\n",
       "      <td>19.101334</td>\n",
       "      <td>19.680000</td>\n",
       "      <td>19.680000</td>\n",
       "      <td>101484000</td>\n",
       "      <td>0.12</td>\n",
       "      <td>0.27</td>\n",
       "      <td>0.25</td>\n",
       "      <td>...</td>\n",
       "      <td>19.490545</td>\n",
       "      <td>20.204733</td>\n",
       "      <td>-0.714188</td>\n",
       "      <td>46.042424</td>\n",
       "      <td>-0.174923</td>\n",
       "      <td>11.60</td>\n",
       "      <td>31.826496</td>\n",
       "      <td>121.959999</td>\n",
       "      <td>7.516393</td>\n",
       "      <td>128.891281</td>\n",
       "    </tr>\n",
       "    <tr>\n",
       "      <th>428</th>\n",
       "      <td>2018-09-17</td>\n",
       "      <td>19.336000</td>\n",
       "      <td>20.058001</td>\n",
       "      <td>19.208668</td>\n",
       "      <td>19.656000</td>\n",
       "      <td>19.656000</td>\n",
       "      <td>103314000</td>\n",
       "      <td>-0.71</td>\n",
       "      <td>-0.45</td>\n",
       "      <td>0.84</td>\n",
       "      <td>...</td>\n",
       "      <td>19.516000</td>\n",
       "      <td>20.164086</td>\n",
       "      <td>-0.648087</td>\n",
       "      <td>45.887007</td>\n",
       "      <td>-0.222019</td>\n",
       "      <td>9.90</td>\n",
       "      <td>32.179604</td>\n",
       "      <td>122.279999</td>\n",
       "      <td>7.580566</td>\n",
       "      <td>127.626030</td>\n",
       "    </tr>\n",
       "    <tr>\n",
       "      <th>429</th>\n",
       "      <td>2018-09-18</td>\n",
       "      <td>19.779333</td>\n",
       "      <td>20.176001</td>\n",
       "      <td>18.366667</td>\n",
       "      <td>18.997334</td>\n",
       "      <td>18.997334</td>\n",
       "      <td>248212500</td>\n",
       "      <td>0.57</td>\n",
       "      <td>0.05</td>\n",
       "      <td>-0.48</td>\n",
       "      <td>...</td>\n",
       "      <td>19.436205</td>\n",
       "      <td>20.077660</td>\n",
       "      <td>-0.641455</td>\n",
       "      <td>41.724400</td>\n",
       "      <td>-0.236714</td>\n",
       "      <td>8.50</td>\n",
       "      <td>32.542011</td>\n",
       "      <td>122.480003</td>\n",
       "      <td>7.660785</td>\n",
       "      <td>128.263474</td>\n",
       "    </tr>\n",
       "    <tr>\n",
       "      <th>430</th>\n",
       "      <td>2018-09-19</td>\n",
       "      <td>18.700666</td>\n",
       "      <td>20.000000</td>\n",
       "      <td>18.700001</td>\n",
       "      <td>19.934668</td>\n",
       "      <td>19.934668</td>\n",
       "      <td>124423500</td>\n",
       "      <td>0.06</td>\n",
       "      <td>-0.66</td>\n",
       "      <td>1.28</td>\n",
       "      <td>...</td>\n",
       "      <td>19.512891</td>\n",
       "      <td>20.067068</td>\n",
       "      <td>-0.554177</td>\n",
       "      <td>48.837241</td>\n",
       "      <td>-0.250940</td>\n",
       "      <td>7.68</td>\n",
       "      <td>32.616344</td>\n",
       "      <td>125.029999</td>\n",
       "      <td>7.684850</td>\n",
       "      <td>133.594925</td>\n",
       "    </tr>\n",
       "    <tr>\n",
       "      <th>...</th>\n",
       "      <td>...</td>\n",
       "      <td>...</td>\n",
       "      <td>...</td>\n",
       "      <td>...</td>\n",
       "      <td>...</td>\n",
       "      <td>...</td>\n",
       "      <td>...</td>\n",
       "      <td>...</td>\n",
       "      <td>...</td>\n",
       "      <td>...</td>\n",
       "      <td>...</td>\n",
       "      <td>...</td>\n",
       "      <td>...</td>\n",
       "      <td>...</td>\n",
       "      <td>...</td>\n",
       "      <td>...</td>\n",
       "      <td>...</td>\n",
       "      <td>...</td>\n",
       "      <td>...</td>\n",
       "      <td>...</td>\n",
       "      <td>...</td>\n",
       "    </tr>\n",
       "    <tr>\n",
       "      <th>1584</th>\n",
       "      <td>2023-04-21</td>\n",
       "      <td>164.800003</td>\n",
       "      <td>166.000000</td>\n",
       "      <td>161.320007</td>\n",
       "      <td>165.080002</td>\n",
       "      <td>165.080002</td>\n",
       "      <td>123539000</td>\n",
       "      <td>0.07</td>\n",
       "      <td>0.26</td>\n",
       "      <td>-0.92</td>\n",
       "      <td>...</td>\n",
       "      <td>179.692929</td>\n",
       "      <td>183.898405</td>\n",
       "      <td>-4.205476</td>\n",
       "      <td>35.309424</td>\n",
       "      <td>0.156027</td>\n",
       "      <td>8.28</td>\n",
       "      <td>33.446861</td>\n",
       "      <td>133.800003</td>\n",
       "      <td>11.597337</td>\n",
       "      <td>274.025513</td>\n",
       "    </tr>\n",
       "    <tr>\n",
       "      <th>1585</th>\n",
       "      <td>2023-04-24</td>\n",
       "      <td>164.649994</td>\n",
       "      <td>165.649994</td>\n",
       "      <td>158.610001</td>\n",
       "      <td>162.550003</td>\n",
       "      <td>162.550003</td>\n",
       "      <td>140006600</td>\n",
       "      <td>0.00</td>\n",
       "      <td>-0.40</td>\n",
       "      <td>0.47</td>\n",
       "      <td>...</td>\n",
       "      <td>177.055556</td>\n",
       "      <td>182.317042</td>\n",
       "      <td>-5.261486</td>\n",
       "      <td>33.974557</td>\n",
       "      <td>0.142498</td>\n",
       "      <td>8.33</td>\n",
       "      <td>33.456833</td>\n",
       "      <td>134.669998</td>\n",
       "      <td>11.538715</td>\n",
       "      <td>276.040985</td>\n",
       "    </tr>\n",
       "    <tr>\n",
       "      <th>1586</th>\n",
       "      <td>2023-04-25</td>\n",
       "      <td>159.820007</td>\n",
       "      <td>163.470001</td>\n",
       "      <td>158.750000</td>\n",
       "      <td>160.669998</td>\n",
       "      <td>160.669998</td>\n",
       "      <td>121999300</td>\n",
       "      <td>-1.76</td>\n",
       "      <td>-0.99</td>\n",
       "      <td>0.10</td>\n",
       "      <td>...</td>\n",
       "      <td>174.534701</td>\n",
       "      <td>180.713557</td>\n",
       "      <td>-6.178856</td>\n",
       "      <td>32.976902</td>\n",
       "      <td>0.136458</td>\n",
       "      <td>8.29</td>\n",
       "      <td>34.194778</td>\n",
       "      <td>134.839996</td>\n",
       "      <td>11.880674</td>\n",
       "      <td>280.190002</td>\n",
       "    </tr>\n",
       "    <tr>\n",
       "      <th>1587</th>\n",
       "      <td>2023-04-26</td>\n",
       "      <td>160.289993</td>\n",
       "      <td>160.669998</td>\n",
       "      <td>153.139999</td>\n",
       "      <td>153.750000</td>\n",
       "      <td>153.750000</td>\n",
       "      <td>153364100</td>\n",
       "      <td>-0.41</td>\n",
       "      <td>0.15</td>\n",
       "      <td>-0.75</td>\n",
       "      <td>...</td>\n",
       "      <td>171.337055</td>\n",
       "      <td>178.716257</td>\n",
       "      <td>-7.379202</td>\n",
       "      <td>29.538571</td>\n",
       "      <td>0.129873</td>\n",
       "      <td>7.90</td>\n",
       "      <td>32.818611</td>\n",
       "      <td>133.509995</td>\n",
       "      <td>11.643260</td>\n",
       "      <td>277.209991</td>\n",
       "    </tr>\n",
       "    <tr>\n",
       "      <th>1588</th>\n",
       "      <td>2023-04-27</td>\n",
       "      <td>152.639999</td>\n",
       "      <td>160.479996</td>\n",
       "      <td>152.369995</td>\n",
       "      <td>160.190002</td>\n",
       "      <td>160.190002</td>\n",
       "      <td>127015200</td>\n",
       "      <td>1.85</td>\n",
       "      <td>-0.56</td>\n",
       "      <td>0.00</td>\n",
       "      <td>...</td>\n",
       "      <td>169.622124</td>\n",
       "      <td>177.343942</td>\n",
       "      <td>-7.721818</td>\n",
       "      <td>36.204944</td>\n",
       "      <td>0.122739</td>\n",
       "      <td>7.68</td>\n",
       "      <td>32.130527</td>\n",
       "      <td>134.020004</td>\n",
       "      <td>11.415736</td>\n",
       "      <td>275.410004</td>\n",
       "    </tr>\n",
       "  </tbody>\n",
       "</table>\n",
       "<p>1163 rows × 25 columns</p>\n",
       "</div>"
      ],
      "text/plain": [
       "           Date        Open        High         Low       Close   Adj Close  \\\n",
       "426  2018-09-13   19.201332   19.666668   19.011999   19.297333   19.297333   \n",
       "427  2018-09-14   19.250668   19.822001   19.101334   19.680000   19.680000   \n",
       "428  2018-09-17   19.336000   20.058001   19.208668   19.656000   19.656000   \n",
       "429  2018-09-18   19.779333   20.176001   18.366667   18.997334   18.997334   \n",
       "430  2018-09-19   18.700666   20.000000   18.700001   19.934668   19.934668   \n",
       "...         ...         ...         ...         ...         ...         ...   \n",
       "1584 2023-04-21  164.800003  166.000000  161.320007  165.080002  165.080002   \n",
       "1585 2023-04-24  164.649994  165.649994  158.610001  162.550003  162.550003   \n",
       "1586 2023-04-25  159.820007  163.470001  158.750000  160.669998  160.669998   \n",
       "1587 2023-04-26  160.289993  160.669998  153.139999  153.750000  153.750000   \n",
       "1588 2023-04-27  152.639999  160.479996  152.369995  160.190002  160.190002   \n",
       "\n",
       "         Volume  Mkt-RF   SMB   HML  ...      EMA_12      EMA_26      MACD  \\\n",
       "426    95104500    0.45 -0.44 -0.40  ...   19.456098   20.246712 -0.790613   \n",
       "427   101484000    0.12  0.27  0.25  ...   19.490545   20.204733 -0.714188   \n",
       "428   103314000   -0.71 -0.45  0.84  ...   19.516000   20.164086 -0.648087   \n",
       "429   248212500    0.57  0.05 -0.48  ...   19.436205   20.077660 -0.641455   \n",
       "430   124423500    0.06 -0.66  1.28  ...   19.512891   20.067068 -0.554177   \n",
       "...         ...     ...   ...   ...  ...         ...         ...       ...   \n",
       "1584  123539000    0.07  0.26 -0.92  ...  179.692929  183.898405 -4.205476   \n",
       "1585  140006600    0.00 -0.40  0.47  ...  177.055556  182.317042 -5.261486   \n",
       "1586  121999300   -1.76 -0.99  0.10  ...  174.534701  180.713557 -6.178856   \n",
       "1587  153364100   -0.41  0.15 -0.75  ...  171.337055  178.716257 -7.379202   \n",
       "1588  127015200    1.85 -0.56  0.00  ...  169.622124  177.343942 -7.721818   \n",
       "\n",
       "            RSI  ADS_Index  NIO Yest_Close  GM Yest_Close  TM Yest_Close  \\\n",
       "426   43.193862  -0.158008            6.60      31.649935     119.910004   \n",
       "427   46.042424  -0.174923           11.60      31.826496     121.959999   \n",
       "428   45.887007  -0.222019            9.90      32.179604     122.279999   \n",
       "429   41.724400  -0.236714            8.50      32.542011     122.480003   \n",
       "430   48.837241  -0.250940            7.68      32.616344     125.029999   \n",
       "...         ...        ...             ...            ...            ...   \n",
       "1584  35.309424   0.156027            8.28      33.446861     133.800003   \n",
       "1585  33.974557   0.142498            8.33      33.456833     134.669998   \n",
       "1586  32.976902   0.136458            8.29      34.194778     134.839996   \n",
       "1587  29.538571   0.129873            7.90      32.818611     133.509995   \n",
       "1588  36.204944   0.122739            7.68      32.130527     134.020004   \n",
       "\n",
       "      F Yest_Close  RACE Yest_Close  \n",
       "426       7.492328       128.253830  \n",
       "427       7.516393       128.891281  \n",
       "428       7.580566       127.626030  \n",
       "429       7.660785       128.263474  \n",
       "430       7.684850       133.594925  \n",
       "...            ...              ...  \n",
       "1584     11.597337       274.025513  \n",
       "1585     11.538715       276.040985  \n",
       "1586     11.880674       280.190002  \n",
       "1587     11.643260       277.209991  \n",
       "1588     11.415736       275.410004  \n",
       "\n",
       "[1163 rows x 25 columns]"
      ]
     },
     "execution_count": 31,
     "metadata": {},
     "output_type": "execute_result"
    }
   ],
   "source": [
    "TSLA_Final"
   ]
  },
  {
   "cell_type": "markdown",
   "metadata": {
    "id": "CCoyUPpXKTx0"
   },
   "source": []
  },
  {
   "cell_type": "code",
   "execution_count": 32,
   "metadata": {
    "id": "6AI6leaJ-Th3"
   },
   "outputs": [],
   "source": [
    "TSLA_Final.to_csv('TSLA_Final_Dataset.csv', index = False, sep = ',')"
   ]
  },
  {
   "cell_type": "code",
   "execution_count": 33,
   "metadata": {},
   "outputs": [
    {
     "name": "stdout",
     "output_type": "stream",
     "text": [
      "426      7.492328\n",
      "427      7.516393\n",
      "428      7.580566\n",
      "429      7.660785\n",
      "430      7.684850\n",
      "          ...    \n",
      "1584    11.597337\n",
      "1585    11.538715\n",
      "1586    11.880674\n",
      "1587    11.643260\n",
      "1588    11.415736\n",
      "Name: F Yest_Close, Length: 1163, dtype: float64\n"
     ]
    }
   ],
   "source": [
    "y = TSLA_Final.iloc[:, -2]\n",
    "print(y)"
   ]
  },
  {
   "cell_type": "markdown",
   "metadata": {
    "id": "ywtnhS4RKVDX"
   },
   "source": [
    "### Correlation Matrix of Final Dataframe to check the multi-collinearity between variables"
   ]
  },
  {
   "cell_type": "code",
   "execution_count": 36,
   "metadata": {
    "colab": {
     "base_uri": "https://localhost:8080/",
     "height": 935
    },
    "id": "dkQ3Z4wL8Bue",
    "outputId": "14ac4def-b182-478d-cb37-5dbc990b7fb2"
   },
   "outputs": [
    {
     "data": {
      "application/vnd.plotly.v1+json": {
       "config": {
        "plotlyServerURL": "https://plot.ly"
       },
       "data": [
        {
         "coloraxis": "coloraxis",
         "hovertemplate": "x: %{x}<br>y: %{y}<br>color: %{z}<extra></extra>",
         "name": "0",
         "texttemplate": "%{z}",
         "type": "heatmap",
         "x": [
          "Date",
          "Open",
          "High",
          "Low",
          "Close",
          "Adj Close",
          "Volume",
          "Mkt-RF",
          "SMB",
          "HML",
          "RF",
          "Yest_Close",
          "stock_return",
          "SMA_20",
          "SMA_50",
          "EMA_12",
          "EMA_26",
          "MACD",
          "RSI",
          "ADS_Index",
          "NIO Yest_Close",
          "GM Yest_Close",
          "TM Yest_Close",
          "F Yest_Close",
          "RACE Yest_Close"
         ],
         "xaxis": "x",
         "y": [
          "Date",
          "Open",
          "High",
          "Low",
          "Close",
          "Adj Close",
          "Volume",
          "Mkt-RF",
          "SMB",
          "HML",
          "RF",
          "Yest_Close",
          "stock_return",
          "SMA_20",
          "SMA_50",
          "EMA_12",
          "EMA_26",
          "MACD",
          "RSI",
          "ADS_Index",
          "NIO Yest_Close",
          "GM Yest_Close",
          "TM Yest_Close",
          "F Yest_Close",
          "RACE Yest_Close"
         ],
         "yaxis": "y",
         "z": [
          [
           1,
           0.8010229228082196,
           0.8017460232419112,
           0.8003773177790388,
           0.8007461801399861,
           0.8007461801399861,
           -0.2670773850830689,
           -0.008008566956246622,
           0.006213989966183694,
           0.02784541636300796,
           0.04591403428556261,
           0.8018922877685264,
           -0.03630628676066353,
           0.8160353783711439,
           0.836733219762033,
           0.8116619108810404,
           0.8238174329961087,
           -0.11281584844689063,
           -0.13532674293644875,
           0.08793270185358346,
           0.37950189499724735,
           0.3433625820898031,
           0.603234514069525,
           0.6914660073921924,
           0.8644638554305701
          ],
          [
           0.8010229228082196,
           1,
           0.9994505479476559,
           0.999217470498864,
           0.9984048318658552,
           0.9984048318658552,
           -0.41422562209980474,
           -0.024927385833148692,
           -0.0027105574260967214,
           0.08097221522312895,
           -0.38221176534748846,
           0.999352686029372,
           -0.04394020286880199,
           0.9873400600665025,
           0.9652552143649104,
           0.9954318456546113,
           0.9878674144902707,
           0.1554415100531956,
           -0.003659155560462001,
           0.15596336238338798,
           0.7200223875359492,
           0.6590791778978264,
           0.8323607885526277,
           0.8213163124482915,
           0.8003156414583698
          ],
          [
           0.8017460232419112,
           0.9994505479476559,
           1,
           0.9992357796105908,
           0.9992797723730142,
           0.9992797723730142,
           -0.4074689642055641,
           -0.020203231989865775,
           0.0032500431966607153,
           0.07373476046055229,
           -0.382692942455602,
           0.9989283897080142,
           -0.028346124494902734,
           0.9872918806540479,
           0.9656687393428458,
           0.9954047062934525,
           0.9879428390382309,
           0.154099048500634,
           -0.000026120090762258268,
           0.15565792249226004,
           0.7180405265923487,
           0.6567831310714541,
           0.8320651647644246,
           0.8211625118498228,
           0.8003125962052812
          ],
          [
           0.8003773177790388,
           0.999217470498864,
           0.9992357796105908,
           1,
           0.9993580961861106,
           0.9993580961861106,
           -0.4210495772975825,
           -0.01744950805266379,
           0.0045120559540093655,
           0.07118120675430502,
           -0.3826539195212114,
           0.9986594557630664,
           -0.026001645956367236,
           0.9858819393355013,
           0.9635403055570141,
           0.9944771400190833,
           0.9865019176644632,
           0.1607579608454012,
           0.006648476219183149,
           0.1569005230136428,
           0.722520877402577,
           0.6612083343600916,
           0.8335000793089035,
           0.8203618694978165,
           0.8002466937096897
          ],
          [
           0.8007461801399861,
           0.9984048318658552,
           0.9992797723730142,
           0.9993580961861106,
           1,
           1,
           -0.4128232433120081,
           -0.0064150372688800035,
           0.011298340505165675,
           0.0622590774919323,
           -0.38336405461626744,
           0.997848197688777,
           -0.008520042945263456,
           0.9858971033997442,
           0.9638795532751493,
           0.9944221142840891,
           0.9865775172564027,
           0.15904704043508203,
           0.00907467872732845,
           0.15674604242537962,
           0.7208612805644602,
           0.658776805697307,
           0.8322121802326559,
           0.8195889849711212,
           0.8005187927358992
          ],
          [
           0.8007461801399861,
           0.9984048318658552,
           0.9992797723730142,
           0.9993580961861106,
           1,
           1,
           -0.4128232433120081,
           -0.0064150372688800035,
           0.011298340505165675,
           0.0622590774919323,
           -0.38336405461626744,
           0.997848197688777,
           -0.008520042945263456,
           0.9858971033997442,
           0.9638795532751493,
           0.9944221142840891,
           0.9865775172564027,
           0.15904704043508203,
           0.00907467872732845,
           0.15674604242537962,
           0.7208612805644602,
           0.658776805697307,
           0.8322121802326559,
           0.8195889849711212,
           0.8005187927358992
          ],
          [
           -0.2670773850830689,
           -0.41422562209980474,
           -0.4074689642055641,
           -0.4210495772975825,
           -0.4128232433120081,
           -0.4128232433120081,
           1,
           -0.005935612962435233,
           -0.01074857444338108,
           -0.08690607416053142,
           0.09852752794482249,
           -0.4159156663748743,
           0.11371954258620906,
           -0.4324466658369942,
           -0.4429541483564384,
           -0.4258409067331371,
           -0.43486884609758925,
           0.09384189917492931,
           0.19469993148740183,
           -0.2168598852941599,
           -0.35975357512565165,
           -0.46430312431276305,
           -0.40704535687593274,
           -0.45942073441101,
           -0.2290532332955483
          ],
          [
           -0.008008566956246622,
           -0.024927385833148692,
           -0.020203231989865775,
           -0.01744950805266379,
           -0.0064150372688800035,
           -0.0064150372688800035,
           -0.005935612962435233,
           1,
           0.22273437804016244,
           -0.07395078278370573,
           -0.023668657061473395,
           -0.0342191948188271,
           0.516153341686287,
           -0.028443074434409344,
           -0.02293925917756288,
           -0.02706584547709352,
           -0.02663667227176234,
           -0.00714844728556856,
           0.1301156617214053,
           -0.013710119891871991,
           0.004232441362627209,
           -0.03775464939387288,
           -0.04816567399672234,
           -0.05848986793155823,
           -0.02052181919579685
          ],
          [
           0.006213989966183694,
           -0.0027105574260967214,
           0.0032500431966607153,
           0.0045120559540093655,
           0.011298340505165675,
           0.011298340505165675,
           -0.01074857444338108,
           0.22273437804016244,
           1,
           -0.03324560867739537,
           -0.03815161194980111,
           -0.005469691574551365,
           0.23655870260174425,
           -0.0050434541193699845,
           -0.0044550049438165295,
           -0.002321487973583442,
           -0.0038709094594902693,
           0.020125258245661366,
           0.07669463260822865,
           0.0012797906696546029,
           0.028951961963904652,
           -0.05150076011278563,
           -0.023150388222686787,
           -0.06367498741927095,
           -0.011263096340829804
          ],
          [
           0.02784541636300796,
           0.08097221522312895,
           0.07373476046055229,
           0.07118120675430502,
           0.0622590774919323,
           0.0622590774919323,
           -0.08690607416053142,
           -0.07395078278370573,
           -0.03324560867739537,
           1,
           -0.04314630875988062,
           0.08412919326893349,
           -0.2409278060255989,
           0.08121104703962087,
           0.07833750373738309,
           0.078942414509784,
           0.08002958149671295,
           -0.009729395853749594,
           -0.07527370029841937,
           0.049106095194507676,
           0.07417539988689732,
           0.07147480167167311,
           0.05699986218240353,
           0.07045185018736362,
           0.0510761554288073
          ],
          [
           0.04591403428556261,
           -0.38221176534748846,
           -0.382692942455602,
           -0.3826539195212114,
           -0.38336405461626744,
           -0.38336405461626744,
           0.09852752794482249,
           -0.023668657061473395,
           -0.03815161194980111,
           -0.04314630875988062,
           1,
           -0.38014995448633676,
           -0.05536347472585345,
           -0.360491563694711,
           -0.32386131518574857,
           -0.370410948583344,
           -0.3545036177386903,
           -0.22901305003885836,
           -0.24757356717831683,
           -0.04697215877233579,
           -0.5959958872238288,
           -0.3588547847088687,
           -0.4758030207039777,
           -0.08158014673612407,
           -0.10040701205987992
          ],
          [
           0.8018922877685264,
           0.999352686029372,
           0.9989283897080142,
           0.9986594557630664,
           0.997848197688777,
           0.997848197688777,
           -0.4159156663748743,
           -0.0342191948188271,
           -0.005469691574551365,
           0.08412919326893349,
           -0.38014995448633676,
           1,
           -0.060070664707858365,
           0.9880020925177653,
           0.9659741197791207,
           0.9959714450373146,
           0.9885116653881711,
           0.15410394799178656,
           -0.009936139592982129,
           0.15573238253175484,
           0.7195385656943302,
           0.6596089414608755,
           0.8322795296156044,
           0.8224595053601944,
           0.8007213292968485
          ],
          [
           -0.03630628676066353,
           -0.04394020286880199,
           -0.028346124494902734,
           -0.026001645956367236,
           -0.008520042945263456,
           -0.008520042945263456,
           0.11371954258620906,
           0.516153341686287,
           0.23655870260174425,
           -0.2409278060255989,
           -0.05536347472585345,
           -0.060070664707858365,
           1,
           -0.060629765021487904,
           -0.060480330670079865,
           -0.05338623310731903,
           -0.058462651833738936,
           0.06333653424035933,
           0.3547752406153498,
           -0.007696536974878684,
           -0.01593028632565467,
           -0.05433766151267674,
           -0.02055875280944395,
           -0.07009455052317304,
           -0.019283394049027108
          ],
          [
           0.8160353783711439,
           0.9873400600665025,
           0.9872918806540479,
           0.9858819393355013,
           0.9858971033997442,
           0.9858971033997442,
           -0.4324466658369942,
           -0.028443074434409344,
           -0.0050434541193699845,
           0.08121104703962087,
           -0.360491563694711,
           0.9880020925177653,
           -0.060629765021487904,
           1,
           0.9862123978519594,
           0.9973321450127471,
           0.9989970110639422,
           0.03488567718084259,
           -0.11642121013255084,
           0.14595731959932381,
           0.6933993898587801,
           0.6513274706617749,
           0.8258874222151648,
           0.8308994018892818,
           0.787047201211618
          ],
          [
           0.836733219762033,
           0.9652552143649104,
           0.9656687393428458,
           0.9635403055570141,
           0.9638795532751493,
           0.9638795532751493,
           -0.4429541483564384,
           -0.02293925917756288,
           -0.0044550049438165295,
           0.07833750373738309,
           -0.32386131518574857,
           0.9659741197791207,
           -0.060480330670079865,
           0.9862123978519594,
           1,
           0.9792873154526572,
           0.9912561404227369,
           -0.10085323292380827,
           -0.1875743475514887,
           0.12791549501438096,
           0.6521393679360536,
           0.6370230704077859,
           0.8221286640805238,
           0.8409158689049329,
           0.7636939914359279
          ],
          [
           0.8116619108810404,
           0.9954318456546113,
           0.9954047062934525,
           0.9944771400190833,
           0.9944221142840891,
           0.9944221142840891,
           -0.4258409067331371,
           -0.02706584547709352,
           -0.002321487973583442,
           0.078942414509784,
           -0.370410948583344,
           0.9959714450373146,
           -0.05338623310731903,
           0.9973321450127471,
           0.9792873154526572,
           1,
           0.9970968663775797,
           0.0947592216726627,
           -0.06720733139453106,
           0.15110312306137547,
           0.7074434253123929,
           0.6570144507292311,
           0.8309433916674132,
           0.8293584569836052,
           0.7957562477169612
          ],
          [
           0.8238174329961087,
           0.9878674144902707,
           0.9879428390382309,
           0.9865019176644632,
           0.9865775172564027,
           0.9865775172564027,
           -0.43486884609758925,
           -0.02663667227176234,
           -0.0038709094594902693,
           0.08002958149671295,
           -0.3545036177386903,
           0.9885116653881711,
           -0.058462651833738936,
           0.9989970110639422,
           0.9912561404227369,
           0.9970968663775797,
           1,
           0.018683209636684916,
           -0.11916854857785708,
           0.14352603738622424,
           0.6891500202039439,
           0.651550122402288,
           0.8297999187296443,
           0.8363165829554533,
           0.7868330364244506
          ],
          [
           -0.11281584844689063,
           0.1554415100531956,
           0.154099048500634,
           0.1607579608454012,
           0.15904704043508203,
           0.15904704043508203,
           0.09384189917492931,
           -0.00714844728556856,
           0.020125258245661366,
           -0.009729395853749594,
           -0.22901305003885836,
           0.15410394799178656,
           0.06333653424035933,
           0.03488567718084259,
           -0.10085323292380827,
           0.0947592216726627,
           0.018683209636684916,
           1,
           0.6755230210345675,
           0.1076459849420804,
           0.27935325233795305,
           0.10876142804412614,
           0.062150392570438466,
           -0.04385989344826844,
           0.16186388659177392
          ],
          [
           -0.13532674293644875,
           -0.003659155560462001,
           -0.000026120090762258268,
           0.006648476219183149,
           0.00907467872732845,
           0.00907467872732845,
           0.19469993148740183,
           0.1301156617214053,
           0.07669463260822865,
           -0.07527370029841937,
           -0.24757356717831683,
           -0.009936139592982129,
           0.3547752406153498,
           -0.11642121013255084,
           -0.1875743475514887,
           -0.06720733139453106,
           -0.11916854857785708,
           0.6755230210345675,
           1,
           0.14426358222034402,
           0.09288217288214567,
           -0.0064574473518131505,
           0.0718961422770621,
           -0.13777364053846858,
           0.06727599022184812
          ],
          [
           0.08793270185358346,
           0.15596336238338798,
           0.15565792249226004,
           0.1569005230136428,
           0.15674604242537962,
           0.15674604242537962,
           -0.2168598852941599,
           -0.013710119891871991,
           0.0012797906696546029,
           0.049106095194507676,
           -0.04697215877233579,
           0.15573238253175484,
           -0.007696536974878684,
           0.14595731959932381,
           0.12791549501438096,
           0.15110312306137547,
           0.14352603738622424,
           0.1076459849420804,
           0.14426358222034402,
           1,
           0.16933538625905897,
           0.22776586575974397,
           0.15069214772913592,
           0.18011568437553546,
           0.1708324146133105
          ],
          [
           0.37950189499724735,
           0.7200223875359492,
           0.7180405265923487,
           0.722520877402577,
           0.7208612805644602,
           0.7208612805644602,
           -0.35975357512565165,
           0.004232441362627209,
           0.028951961963904652,
           0.07417539988689732,
           -0.5959958872238288,
           0.7195385656943302,
           -0.01593028632565467,
           0.6933993898587801,
           0.6521393679360536,
           0.7074434253123929,
           0.6891500202039439,
           0.27935325233795305,
           0.09288217288214567,
           0.16933538625905897,
           1,
           0.7718735105762682,
           0.6534958759521359,
           0.45646923033743836,
           0.5392689677823231
          ],
          [
           0.3433625820898031,
           0.6590791778978264,
           0.6567831310714541,
           0.6612083343600916,
           0.658776805697307,
           0.658776805697307,
           -0.46430312431276305,
           -0.03775464939387288,
           -0.05150076011278563,
           0.07147480167167311,
           -0.3588547847088687,
           0.6596089414608755,
           -0.05433766151267674,
           0.6513274706617749,
           0.6370230704077859,
           0.6570144507292311,
           0.651550122402288,
           0.10876142804412614,
           -0.0064574473518131505,
           0.22776586575974397,
           0.7718735105762682,
           1,
           0.7807775882450902,
           0.7387914276459955,
           0.5464154884109501
          ],
          [
           0.603234514069525,
           0.8323607885526277,
           0.8320651647644246,
           0.8335000793089035,
           0.8322121802326559,
           0.8322121802326559,
           -0.40704535687593274,
           -0.04816567399672234,
           -0.023150388222686787,
           0.05699986218240353,
           -0.4758030207039777,
           0.8322795296156044,
           -0.02055875280944395,
           0.8258874222151648,
           0.8221286640805238,
           0.8309433916674132,
           0.8297999187296443,
           0.062150392570438466,
           0.0718961422770621,
           0.15069214772913592,
           0.6534958759521359,
           0.7807775882450902,
           1,
           0.8467067804574018,
           0.6963708781947017
          ],
          [
           0.6914660073921924,
           0.8213163124482915,
           0.8211625118498228,
           0.8203618694978165,
           0.8195889849711212,
           0.8195889849711212,
           -0.45942073441101,
           -0.05848986793155823,
           -0.06367498741927095,
           0.07045185018736362,
           -0.08158014673612407,
           0.8224595053601944,
           -0.07009455052317304,
           0.8308994018892818,
           0.8409158689049329,
           0.8293584569836052,
           0.8363165829554533,
           -0.04385989344826844,
           -0.13777364053846858,
           0.18011568437553546,
           0.45646923033743836,
           0.7387914276459955,
           0.8467067804574018,
           1,
           0.7222932088524224
          ],
          [
           0.8644638554305701,
           0.8003156414583698,
           0.8003125962052812,
           0.8002466937096897,
           0.8005187927358992,
           0.8005187927358992,
           -0.2290532332955483,
           -0.02052181919579685,
           -0.011263096340829804,
           0.0510761554288073,
           -0.10040701205987992,
           0.8007213292968485,
           -0.019283394049027108,
           0.787047201211618,
           0.7636939914359279,
           0.7957562477169612,
           0.7868330364244506,
           0.16186388659177392,
           0.06727599022184812,
           0.1708324146133105,
           0.5392689677823231,
           0.5464154884109501,
           0.6963708781947017,
           0.7222932088524224,
           1
          ]
         ]
        }
       ],
       "layout": {
        "coloraxis": {
         "colorscale": [
          [
           0,
           "#0d0887"
          ],
          [
           0.1111111111111111,
           "#46039f"
          ],
          [
           0.2222222222222222,
           "#7201a8"
          ],
          [
           0.3333333333333333,
           "#9c179e"
          ],
          [
           0.4444444444444444,
           "#bd3786"
          ],
          [
           0.5555555555555556,
           "#d8576b"
          ],
          [
           0.6666666666666666,
           "#ed7953"
          ],
          [
           0.7777777777777778,
           "#fb9f3a"
          ],
          [
           0.8888888888888888,
           "#fdca26"
          ],
          [
           1,
           "#f0f921"
          ]
         ]
        },
        "margin": {
         "t": 60
        },
        "template": {
         "data": {
          "bar": [
           {
            "error_x": {
             "color": "#2a3f5f"
            },
            "error_y": {
             "color": "#2a3f5f"
            },
            "marker": {
             "line": {
              "color": "#E5ECF6",
              "width": 0.5
             },
             "pattern": {
              "fillmode": "overlay",
              "size": 10,
              "solidity": 0.2
             }
            },
            "type": "bar"
           }
          ],
          "barpolar": [
           {
            "marker": {
             "line": {
              "color": "#E5ECF6",
              "width": 0.5
             },
             "pattern": {
              "fillmode": "overlay",
              "size": 10,
              "solidity": 0.2
             }
            },
            "type": "barpolar"
           }
          ],
          "carpet": [
           {
            "aaxis": {
             "endlinecolor": "#2a3f5f",
             "gridcolor": "white",
             "linecolor": "white",
             "minorgridcolor": "white",
             "startlinecolor": "#2a3f5f"
            },
            "baxis": {
             "endlinecolor": "#2a3f5f",
             "gridcolor": "white",
             "linecolor": "white",
             "minorgridcolor": "white",
             "startlinecolor": "#2a3f5f"
            },
            "type": "carpet"
           }
          ],
          "choropleth": [
           {
            "colorbar": {
             "outlinewidth": 0,
             "ticks": ""
            },
            "type": "choropleth"
           }
          ],
          "contour": [
           {
            "colorbar": {
             "outlinewidth": 0,
             "ticks": ""
            },
            "colorscale": [
             [
              0,
              "#0d0887"
             ],
             [
              0.1111111111111111,
              "#46039f"
             ],
             [
              0.2222222222222222,
              "#7201a8"
             ],
             [
              0.3333333333333333,
              "#9c179e"
             ],
             [
              0.4444444444444444,
              "#bd3786"
             ],
             [
              0.5555555555555556,
              "#d8576b"
             ],
             [
              0.6666666666666666,
              "#ed7953"
             ],
             [
              0.7777777777777778,
              "#fb9f3a"
             ],
             [
              0.8888888888888888,
              "#fdca26"
             ],
             [
              1,
              "#f0f921"
             ]
            ],
            "type": "contour"
           }
          ],
          "contourcarpet": [
           {
            "colorbar": {
             "outlinewidth": 0,
             "ticks": ""
            },
            "type": "contourcarpet"
           }
          ],
          "heatmap": [
           {
            "colorbar": {
             "outlinewidth": 0,
             "ticks": ""
            },
            "colorscale": [
             [
              0,
              "#0d0887"
             ],
             [
              0.1111111111111111,
              "#46039f"
             ],
             [
              0.2222222222222222,
              "#7201a8"
             ],
             [
              0.3333333333333333,
              "#9c179e"
             ],
             [
              0.4444444444444444,
              "#bd3786"
             ],
             [
              0.5555555555555556,
              "#d8576b"
             ],
             [
              0.6666666666666666,
              "#ed7953"
             ],
             [
              0.7777777777777778,
              "#fb9f3a"
             ],
             [
              0.8888888888888888,
              "#fdca26"
             ],
             [
              1,
              "#f0f921"
             ]
            ],
            "type": "heatmap"
           }
          ],
          "heatmapgl": [
           {
            "colorbar": {
             "outlinewidth": 0,
             "ticks": ""
            },
            "colorscale": [
             [
              0,
              "#0d0887"
             ],
             [
              0.1111111111111111,
              "#46039f"
             ],
             [
              0.2222222222222222,
              "#7201a8"
             ],
             [
              0.3333333333333333,
              "#9c179e"
             ],
             [
              0.4444444444444444,
              "#bd3786"
             ],
             [
              0.5555555555555556,
              "#d8576b"
             ],
             [
              0.6666666666666666,
              "#ed7953"
             ],
             [
              0.7777777777777778,
              "#fb9f3a"
             ],
             [
              0.8888888888888888,
              "#fdca26"
             ],
             [
              1,
              "#f0f921"
             ]
            ],
            "type": "heatmapgl"
           }
          ],
          "histogram": [
           {
            "marker": {
             "pattern": {
              "fillmode": "overlay",
              "size": 10,
              "solidity": 0.2
             }
            },
            "type": "histogram"
           }
          ],
          "histogram2d": [
           {
            "colorbar": {
             "outlinewidth": 0,
             "ticks": ""
            },
            "colorscale": [
             [
              0,
              "#0d0887"
             ],
             [
              0.1111111111111111,
              "#46039f"
             ],
             [
              0.2222222222222222,
              "#7201a8"
             ],
             [
              0.3333333333333333,
              "#9c179e"
             ],
             [
              0.4444444444444444,
              "#bd3786"
             ],
             [
              0.5555555555555556,
              "#d8576b"
             ],
             [
              0.6666666666666666,
              "#ed7953"
             ],
             [
              0.7777777777777778,
              "#fb9f3a"
             ],
             [
              0.8888888888888888,
              "#fdca26"
             ],
             [
              1,
              "#f0f921"
             ]
            ],
            "type": "histogram2d"
           }
          ],
          "histogram2dcontour": [
           {
            "colorbar": {
             "outlinewidth": 0,
             "ticks": ""
            },
            "colorscale": [
             [
              0,
              "#0d0887"
             ],
             [
              0.1111111111111111,
              "#46039f"
             ],
             [
              0.2222222222222222,
              "#7201a8"
             ],
             [
              0.3333333333333333,
              "#9c179e"
             ],
             [
              0.4444444444444444,
              "#bd3786"
             ],
             [
              0.5555555555555556,
              "#d8576b"
             ],
             [
              0.6666666666666666,
              "#ed7953"
             ],
             [
              0.7777777777777778,
              "#fb9f3a"
             ],
             [
              0.8888888888888888,
              "#fdca26"
             ],
             [
              1,
              "#f0f921"
             ]
            ],
            "type": "histogram2dcontour"
           }
          ],
          "mesh3d": [
           {
            "colorbar": {
             "outlinewidth": 0,
             "ticks": ""
            },
            "type": "mesh3d"
           }
          ],
          "parcoords": [
           {
            "line": {
             "colorbar": {
              "outlinewidth": 0,
              "ticks": ""
             }
            },
            "type": "parcoords"
           }
          ],
          "pie": [
           {
            "automargin": true,
            "type": "pie"
           }
          ],
          "scatter": [
           {
            "fillpattern": {
             "fillmode": "overlay",
             "size": 10,
             "solidity": 0.2
            },
            "type": "scatter"
           }
          ],
          "scatter3d": [
           {
            "line": {
             "colorbar": {
              "outlinewidth": 0,
              "ticks": ""
             }
            },
            "marker": {
             "colorbar": {
              "outlinewidth": 0,
              "ticks": ""
             }
            },
            "type": "scatter3d"
           }
          ],
          "scattercarpet": [
           {
            "marker": {
             "colorbar": {
              "outlinewidth": 0,
              "ticks": ""
             }
            },
            "type": "scattercarpet"
           }
          ],
          "scattergeo": [
           {
            "marker": {
             "colorbar": {
              "outlinewidth": 0,
              "ticks": ""
             }
            },
            "type": "scattergeo"
           }
          ],
          "scattergl": [
           {
            "marker": {
             "colorbar": {
              "outlinewidth": 0,
              "ticks": ""
             }
            },
            "type": "scattergl"
           }
          ],
          "scattermapbox": [
           {
            "marker": {
             "colorbar": {
              "outlinewidth": 0,
              "ticks": ""
             }
            },
            "type": "scattermapbox"
           }
          ],
          "scatterpolar": [
           {
            "marker": {
             "colorbar": {
              "outlinewidth": 0,
              "ticks": ""
             }
            },
            "type": "scatterpolar"
           }
          ],
          "scatterpolargl": [
           {
            "marker": {
             "colorbar": {
              "outlinewidth": 0,
              "ticks": ""
             }
            },
            "type": "scatterpolargl"
           }
          ],
          "scatterternary": [
           {
            "marker": {
             "colorbar": {
              "outlinewidth": 0,
              "ticks": ""
             }
            },
            "type": "scatterternary"
           }
          ],
          "surface": [
           {
            "colorbar": {
             "outlinewidth": 0,
             "ticks": ""
            },
            "colorscale": [
             [
              0,
              "#0d0887"
             ],
             [
              0.1111111111111111,
              "#46039f"
             ],
             [
              0.2222222222222222,
              "#7201a8"
             ],
             [
              0.3333333333333333,
              "#9c179e"
             ],
             [
              0.4444444444444444,
              "#bd3786"
             ],
             [
              0.5555555555555556,
              "#d8576b"
             ],
             [
              0.6666666666666666,
              "#ed7953"
             ],
             [
              0.7777777777777778,
              "#fb9f3a"
             ],
             [
              0.8888888888888888,
              "#fdca26"
             ],
             [
              1,
              "#f0f921"
             ]
            ],
            "type": "surface"
           }
          ],
          "table": [
           {
            "cells": {
             "fill": {
              "color": "#EBF0F8"
             },
             "line": {
              "color": "white"
             }
            },
            "header": {
             "fill": {
              "color": "#C8D4E3"
             },
             "line": {
              "color": "white"
             }
            },
            "type": "table"
           }
          ]
         },
         "layout": {
          "annotationdefaults": {
           "arrowcolor": "#2a3f5f",
           "arrowhead": 0,
           "arrowwidth": 1
          },
          "autotypenumbers": "strict",
          "coloraxis": {
           "colorbar": {
            "outlinewidth": 0,
            "ticks": ""
           }
          },
          "colorscale": {
           "diverging": [
            [
             0,
             "#8e0152"
            ],
            [
             0.1,
             "#c51b7d"
            ],
            [
             0.2,
             "#de77ae"
            ],
            [
             0.3,
             "#f1b6da"
            ],
            [
             0.4,
             "#fde0ef"
            ],
            [
             0.5,
             "#f7f7f7"
            ],
            [
             0.6,
             "#e6f5d0"
            ],
            [
             0.7,
             "#b8e186"
            ],
            [
             0.8,
             "#7fbc41"
            ],
            [
             0.9,
             "#4d9221"
            ],
            [
             1,
             "#276419"
            ]
           ],
           "sequential": [
            [
             0,
             "#0d0887"
            ],
            [
             0.1111111111111111,
             "#46039f"
            ],
            [
             0.2222222222222222,
             "#7201a8"
            ],
            [
             0.3333333333333333,
             "#9c179e"
            ],
            [
             0.4444444444444444,
             "#bd3786"
            ],
            [
             0.5555555555555556,
             "#d8576b"
            ],
            [
             0.6666666666666666,
             "#ed7953"
            ],
            [
             0.7777777777777778,
             "#fb9f3a"
            ],
            [
             0.8888888888888888,
             "#fdca26"
            ],
            [
             1,
             "#f0f921"
            ]
           ],
           "sequentialminus": [
            [
             0,
             "#0d0887"
            ],
            [
             0.1111111111111111,
             "#46039f"
            ],
            [
             0.2222222222222222,
             "#7201a8"
            ],
            [
             0.3333333333333333,
             "#9c179e"
            ],
            [
             0.4444444444444444,
             "#bd3786"
            ],
            [
             0.5555555555555556,
             "#d8576b"
            ],
            [
             0.6666666666666666,
             "#ed7953"
            ],
            [
             0.7777777777777778,
             "#fb9f3a"
            ],
            [
             0.8888888888888888,
             "#fdca26"
            ],
            [
             1,
             "#f0f921"
            ]
           ]
          },
          "colorway": [
           "#636efa",
           "#EF553B",
           "#00cc96",
           "#ab63fa",
           "#FFA15A",
           "#19d3f3",
           "#FF6692",
           "#B6E880",
           "#FF97FF",
           "#FECB52"
          ],
          "font": {
           "color": "#2a3f5f"
          },
          "geo": {
           "bgcolor": "white",
           "lakecolor": "white",
           "landcolor": "#E5ECF6",
           "showlakes": true,
           "showland": true,
           "subunitcolor": "white"
          },
          "hoverlabel": {
           "align": "left"
          },
          "hovermode": "closest",
          "mapbox": {
           "style": "light"
          },
          "paper_bgcolor": "white",
          "plot_bgcolor": "#E5ECF6",
          "polar": {
           "angularaxis": {
            "gridcolor": "white",
            "linecolor": "white",
            "ticks": ""
           },
           "bgcolor": "#E5ECF6",
           "radialaxis": {
            "gridcolor": "white",
            "linecolor": "white",
            "ticks": ""
           }
          },
          "scene": {
           "xaxis": {
            "backgroundcolor": "#E5ECF6",
            "gridcolor": "white",
            "gridwidth": 2,
            "linecolor": "white",
            "showbackground": true,
            "ticks": "",
            "zerolinecolor": "white"
           },
           "yaxis": {
            "backgroundcolor": "#E5ECF6",
            "gridcolor": "white",
            "gridwidth": 2,
            "linecolor": "white",
            "showbackground": true,
            "ticks": "",
            "zerolinecolor": "white"
           },
           "zaxis": {
            "backgroundcolor": "#E5ECF6",
            "gridcolor": "white",
            "gridwidth": 2,
            "linecolor": "white",
            "showbackground": true,
            "ticks": "",
            "zerolinecolor": "white"
           }
          },
          "shapedefaults": {
           "line": {
            "color": "#2a3f5f"
           }
          },
          "ternary": {
           "aaxis": {
            "gridcolor": "white",
            "linecolor": "white",
            "ticks": ""
           },
           "baxis": {
            "gridcolor": "white",
            "linecolor": "white",
            "ticks": ""
           },
           "bgcolor": "#E5ECF6",
           "caxis": {
            "gridcolor": "white",
            "linecolor": "white",
            "ticks": ""
           }
          },
          "title": {
           "x": 0.05
          },
          "xaxis": {
           "automargin": true,
           "gridcolor": "white",
           "linecolor": "white",
           "ticks": "",
           "title": {
            "standoff": 15
           },
           "zerolinecolor": "white",
           "zerolinewidth": 2
          },
          "yaxis": {
           "automargin": true,
           "gridcolor": "white",
           "linecolor": "white",
           "ticks": "",
           "title": {
            "standoff": 15
           },
           "zerolinecolor": "white",
           "zerolinewidth": 2
          }
         }
        },
        "xaxis": {
         "anchor": "y",
         "constrain": "domain",
         "domain": [
          0,
          1
         ],
         "scaleanchor": "y"
        },
        "yaxis": {
         "anchor": "x",
         "autorange": "reversed",
         "constrain": "domain",
         "domain": [
          0,
          1
         ]
        }
       }
      }
     },
     "metadata": {},
     "output_type": "display_data"
    }
   ],
   "source": [
    "x = TSLA_Final.iloc[1:, 1:]\n",
    "y = TSLA_Final.iloc[:, -2]\n",
    "corrmat = TSLA_Final.corr()\n",
    "top_corr_features = corrmat.index\n",
    "'''plt.figure(figsize = (16,12))\n",
    "hm = sns.heatmap(TSLA_Final[top_corr_features].corr(), annot = True, cmap = \"YlOrRd\")\n",
    "'''\n",
    "import plotly.express as px\n",
    "z= TSLA_Final[top_corr_features].corr()\n",
    "fig = px.imshow(z, text_auto=True)\n",
    "fig.show()"
   ]
  },
  {
   "cell_type": "code",
   "execution_count": 37,
   "metadata": {
    "id": "XgQwv9xVJEND"
   },
   "outputs": [
    {
     "name": "stdout",
     "output_type": "stream",
     "text": [
      "                            OLS Regression Results                            \n",
      "==============================================================================\n",
      "Dep. Variable:                      y   R-squared:                       0.315\n",
      "Model:                            OLS   Adj. R-squared:                  0.312\n",
      "Method:                 Least Squares   F-statistic:                     133.0\n",
      "Date:                Mon, 28 Aug 2023   Prob (F-statistic):           1.67e-93\n",
      "Time:                        16:59:03   Log-Likelihood:                 2228.2\n",
      "No. Observations:                1163   AIC:                            -4446.\n",
      "Df Residuals:                    1158   BIC:                            -4421.\n",
      "Df Model:                           4                                         \n",
      "Covariance Type:            nonrobust                                         \n",
      "==============================================================================\n",
      "                 coef    std err          t      P>|t|      [0.025      0.975]\n",
      "------------------------------------------------------------------------------\n",
      "const         -0.0029      0.001     -2.732      0.006      -0.005      -0.001\n",
      "Mkt-RF         1.3940      0.074     18.746      0.000       1.248       1.540\n",
      "SMB            0.7499      0.147      5.086      0.000       0.461       1.039\n",
      "HML           -0.7167      0.090     -7.923      0.000      -0.894      -0.539\n",
      "ADS_Index      0.0146      0.025      0.583      0.560      -0.035       0.064\n",
      "==============================================================================\n",
      "Omnibus:                      125.681   Durbin-Watson:                   1.943\n",
      "Prob(Omnibus):                  0.000   Jarque-Bera (JB):              875.680\n",
      "Skew:                           0.194   Prob(JB):                    7.05e-191\n",
      "Kurtosis:                       7.233   Cond. No.                         142.\n",
      "==============================================================================\n",
      "\n",
      "Notes:\n",
      "[1] Standard Errors assume that the covariance matrix of the errors is correctly specified.\n"
     ]
    }
   ],
   "source": [
    "X = TSLA_Final[['Mkt-RF', 'SMB', 'HML', 'ADS_Index']]/100\n",
    "y = TSLA_Final['stock_return'] - TSLA_Final['RF']\n",
    "X = sm.add_constant(X)\n",
    "\n",
    "ff_model = sm.OLS(y, X).fit()\n",
    "print(ff_model.summary())"
   ]
  },
  {
   "cell_type": "code",
   "execution_count": 38,
   "metadata": {},
   "outputs": [
    {
     "data": {
      "text/html": [
       "<div>\n",
       "<style scoped>\n",
       "    .dataframe tbody tr th:only-of-type {\n",
       "        vertical-align: middle;\n",
       "    }\n",
       "\n",
       "    .dataframe tbody tr th {\n",
       "        vertical-align: top;\n",
       "    }\n",
       "\n",
       "    .dataframe thead th {\n",
       "        text-align: right;\n",
       "    }\n",
       "</style>\n",
       "<table border=\"1\" class=\"dataframe\">\n",
       "  <thead>\n",
       "    <tr style=\"text-align: right;\">\n",
       "      <th></th>\n",
       "      <th>const</th>\n",
       "      <th>Mkt-RF</th>\n",
       "      <th>SMB</th>\n",
       "      <th>HML</th>\n",
       "      <th>ADS_Index</th>\n",
       "    </tr>\n",
       "  </thead>\n",
       "  <tbody>\n",
       "    <tr>\n",
       "      <th>426</th>\n",
       "      <td>1.0</td>\n",
       "      <td>0.0045</td>\n",
       "      <td>-0.0044</td>\n",
       "      <td>-0.0040</td>\n",
       "      <td>-0.001580</td>\n",
       "    </tr>\n",
       "    <tr>\n",
       "      <th>427</th>\n",
       "      <td>1.0</td>\n",
       "      <td>0.0012</td>\n",
       "      <td>0.0027</td>\n",
       "      <td>0.0025</td>\n",
       "      <td>-0.001749</td>\n",
       "    </tr>\n",
       "    <tr>\n",
       "      <th>428</th>\n",
       "      <td>1.0</td>\n",
       "      <td>-0.0071</td>\n",
       "      <td>-0.0045</td>\n",
       "      <td>0.0084</td>\n",
       "      <td>-0.002220</td>\n",
       "    </tr>\n",
       "    <tr>\n",
       "      <th>429</th>\n",
       "      <td>1.0</td>\n",
       "      <td>0.0057</td>\n",
       "      <td>0.0005</td>\n",
       "      <td>-0.0048</td>\n",
       "      <td>-0.002367</td>\n",
       "    </tr>\n",
       "    <tr>\n",
       "      <th>430</th>\n",
       "      <td>1.0</td>\n",
       "      <td>0.0006</td>\n",
       "      <td>-0.0066</td>\n",
       "      <td>0.0128</td>\n",
       "      <td>-0.002509</td>\n",
       "    </tr>\n",
       "    <tr>\n",
       "      <th>...</th>\n",
       "      <td>...</td>\n",
       "      <td>...</td>\n",
       "      <td>...</td>\n",
       "      <td>...</td>\n",
       "      <td>...</td>\n",
       "    </tr>\n",
       "    <tr>\n",
       "      <th>1584</th>\n",
       "      <td>1.0</td>\n",
       "      <td>0.0007</td>\n",
       "      <td>0.0026</td>\n",
       "      <td>-0.0092</td>\n",
       "      <td>0.001560</td>\n",
       "    </tr>\n",
       "    <tr>\n",
       "      <th>1585</th>\n",
       "      <td>1.0</td>\n",
       "      <td>0.0000</td>\n",
       "      <td>-0.0040</td>\n",
       "      <td>0.0047</td>\n",
       "      <td>0.001425</td>\n",
       "    </tr>\n",
       "    <tr>\n",
       "      <th>1586</th>\n",
       "      <td>1.0</td>\n",
       "      <td>-0.0176</td>\n",
       "      <td>-0.0099</td>\n",
       "      <td>0.0010</td>\n",
       "      <td>0.001365</td>\n",
       "    </tr>\n",
       "    <tr>\n",
       "      <th>1587</th>\n",
       "      <td>1.0</td>\n",
       "      <td>-0.0041</td>\n",
       "      <td>0.0015</td>\n",
       "      <td>-0.0075</td>\n",
       "      <td>0.001299</td>\n",
       "    </tr>\n",
       "    <tr>\n",
       "      <th>1588</th>\n",
       "      <td>1.0</td>\n",
       "      <td>0.0185</td>\n",
       "      <td>-0.0056</td>\n",
       "      <td>0.0000</td>\n",
       "      <td>0.001227</td>\n",
       "    </tr>\n",
       "  </tbody>\n",
       "</table>\n",
       "<p>1163 rows × 5 columns</p>\n",
       "</div>"
      ],
      "text/plain": [
       "      const  Mkt-RF     SMB     HML  ADS_Index\n",
       "426     1.0  0.0045 -0.0044 -0.0040  -0.001580\n",
       "427     1.0  0.0012  0.0027  0.0025  -0.001749\n",
       "428     1.0 -0.0071 -0.0045  0.0084  -0.002220\n",
       "429     1.0  0.0057  0.0005 -0.0048  -0.002367\n",
       "430     1.0  0.0006 -0.0066  0.0128  -0.002509\n",
       "...     ...     ...     ...     ...        ...\n",
       "1584    1.0  0.0007  0.0026 -0.0092   0.001560\n",
       "1585    1.0  0.0000 -0.0040  0.0047   0.001425\n",
       "1586    1.0 -0.0176 -0.0099  0.0010   0.001365\n",
       "1587    1.0 -0.0041  0.0015 -0.0075   0.001299\n",
       "1588    1.0  0.0185 -0.0056  0.0000   0.001227\n",
       "\n",
       "[1163 rows x 5 columns]"
      ]
     },
     "execution_count": 38,
     "metadata": {},
     "output_type": "execute_result"
    }
   ],
   "source": [
    "X"
   ]
  },
  {
   "cell_type": "code",
   "execution_count": 39,
   "metadata": {},
   "outputs": [
    {
     "data": {
      "text/plain": [
       "426    -0.011717\n",
       "427     0.011830\n",
       "428    -0.009220\n",
       "429    -0.041510\n",
       "430     0.041340\n",
       "          ...   \n",
       "1584   -0.005177\n",
       "1585   -0.033326\n",
       "1586   -0.029566\n",
       "1587   -0.061070\n",
       "1588    0.023886\n",
       "Length: 1163, dtype: float64"
      ]
     },
     "execution_count": 39,
     "metadata": {},
     "output_type": "execute_result"
    }
   ],
   "source": [
    "y"
   ]
  },
  {
   "cell_type": "code",
   "execution_count": 40,
   "metadata": {},
   "outputs": [
    {
     "data": {
      "text/plain": [
       "const       -0.002871\n",
       "Mkt-RF       1.393967\n",
       "SMB          0.749854\n",
       "HML         -0.716656\n",
       "ADS_Index    0.014625\n",
       "dtype: float64"
      ]
     },
     "execution_count": 40,
     "metadata": {},
     "output_type": "execute_result"
    }
   ],
   "source": [
    "ff_model.params"
   ]
  }
 ],
 "metadata": {
  "colab": {
   "provenance": []
  },
  "kernelspec": {
   "display_name": "Python 3 (ipykernel)",
   "language": "python",
   "name": "python3"
  },
  "language_info": {
   "codemirror_mode": {
    "name": "ipython",
    "version": 3
   },
   "file_extension": ".py",
   "mimetype": "text/x-python",
   "name": "python",
   "nbconvert_exporter": "python",
   "pygments_lexer": "ipython3",
   "version": "3.8.0"
  }
 },
 "nbformat": 4,
 "nbformat_minor": 1
}
